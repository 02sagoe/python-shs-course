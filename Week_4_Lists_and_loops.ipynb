{
 "cells": [
  {
   "cell_type": "markdown",
   "id": "746f5f5b",
   "metadata": {},
   "source": [
    "# Lists and loops\n",
    "\n",
    "## Intro\n",
    "\n",
    "At the end of the last lesson, you saw how the for loop gave you the power to loop through a list of items. In this lesson, you’ll learn more about working with lists, and see how <b>lists</b> and loops together make for powerful programming patterns. You’ll also focus on problem-solving using loops, and find out how do you break a problem down into pieces so that you can write a program to solve it.\n",
    "\n",
    "## Learning Outcomes\n",
    "\n",
    "After this week, you will be able to:\n",
    "\n",
    "- Use lists to store and manipulate data\n",
    "- Use loops and lists together to solve common programming problems\n",
    "- Break programming problems into small parts and gradually build up a solution\n",
    "\n",
    "\n",
    "# List basics\n",
    "\n",
    "<i>Estimated Time: 1 hour</i>\n",
    "\n",
    "# What is a list?\n",
    "\n",
    "In your life, you’ve come across all kinds of lists - grocery lists, todo lists, the attendance roll at school, the roster of your football team. Lists in Python are a way to represent many pieces of data, like you do on those lists. Instead of just one number, string, or boolean, a list can hold many pieces of data at once.\n",
    "\n",
    "When working with lists in your life, there are a few core actions you perform:\n",
    "\n",
    "- Create a list\n",
    "- Add something to the list\n",
    "- Remove something from the list\n",
    "- Change an item on the list\n",
    "- Take some action for all of the items on the list\n",
    "- In this lesson, we’ll cover the syntax for creating lists and updating lists, and performing these core actions.\n",
    "\n",
    "## List Syntax\n",
    "\n",
    "A list is a sequence of values. It’s written like this:"
   ]
  },
  {
   "cell_type": "code",
   "execution_count": null,
   "id": "20b75a8c",
   "metadata": {},
   "outputs": [],
   "source": [
    "[1,2,3]"
   ]
  },
  {
   "cell_type": "markdown",
   "id": "d6af57d4",
   "metadata": {},
   "source": [
    "The list is surrounded by square brackets, with elements separated by commas. The values inside a list are called ‘elements’ or ‘items’. You can assign lists to variables, just like you can with numbers and strings:"
   ]
  },
  {
   "cell_type": "code",
   "execution_count": null,
   "id": "193f0d37",
   "metadata": {},
   "outputs": [],
   "source": [
    "my_list = [1,2,3]"
   ]
  },
  {
   "cell_type": "markdown",
   "id": "8e60778c",
   "metadata": {},
   "source": [
    "Lists can be empty. An empty list looks like this:"
   ]
  },
  {
   "cell_type": "code",
   "execution_count": null,
   "id": "0885c6a8",
   "metadata": {},
   "outputs": [],
   "source": [
    "empty_list = []"
   ]
  },
  {
   "cell_type": "markdown",
   "id": "f87df3e5",
   "metadata": {},
   "source": [
    "Lists can contain any type of element, even other lists.\n",
    "\n",
    "Below are some examples of valid lists:"
   ]
  },
  {
   "cell_type": "code",
   "execution_count": null,
   "id": "0fe41045",
   "metadata": {},
   "outputs": [],
   "source": [
    "countries = [\"Kenya\", \"Ghana\", \"Ethiopia\", \"Zimbabwe\"]\n",
    "primes = [2, 3, 5, 7, 11]\n",
    "empty_list = []\n",
    "foods = [[\"apples\", \"kiwis\", \"bananas\"], [\"chorizo\", \"steak\", \"chicken nuggets\"], [\"ice cream\", \"popcorn\", \"chocolate bars\"]]\n",
    "different_types = [False, 1, \"string\", []]"
   ]
  },
  {
   "cell_type": "markdown",
   "id": "f71f79f7",
   "metadata": {},
   "source": [
    "## The list data type\n",
    "\n",
    "Earlier, you learned the basic Python data types: String, Int, Float, Boolean. A List is another core data type in Python, but it’s different from the others you’ve learned so far."
   ]
  },
  {
   "cell_type": "code",
   "execution_count": null,
   "id": "17708b56",
   "metadata": {},
   "outputs": [],
   "source": [
    "my_list = [1,2,3]\n",
    "type(my_list) # <class 'list'>"
   ]
  },
  {
   "cell_type": "markdown",
   "id": "1c644d7f",
   "metadata": {},
   "source": [
    "A list is a type of <b>data structure.</b>\n",
    "\n",
    "```\n",
    "📗 A data structure is a way of storing and organizing data. Data structures are used in programming to organize and store data such that computers can efficiently perform operations on that data.\n",
    "```\n",
    "\n",
    "Different data structures are useful for solving different kinds of problems in Python. The other most common built-in Python data structures are dictionaries, sets, and tuples. We’re going to focus on Lists, but as you grow in your Python skills, you’ll learn the uses of these other types.\n",
    "\n",
    "### List indices\n",
    "\n",
    "Each element of the list has a position, called an <b>index.</b> We can get an element from a list using the name of the list and its index in brackets. For example, given the list below:"
   ]
  },
  {
   "cell_type": "code",
   "execution_count": null,
   "id": "1a46d985",
   "metadata": {},
   "outputs": [],
   "source": [
    "countries = ['Kenya', 'Ghana', 'Ethiopia', 'Zimbabwe']"
   ]
  },
  {
   "cell_type": "markdown",
   "id": "13d4bbd9",
   "metadata": {},
   "source": [
    "We can access the first list item using countries[0], the second list item using countries[1], and so on."
   ]
  },
  {
   "cell_type": "code",
   "execution_count": null,
   "id": "e1068d1e",
   "metadata": {},
   "outputs": [],
   "source": [
    "countries[0] # \"Kenya\"\n",
    "countries[1] # \"Ghana\""
   ]
  },
  {
   "cell_type": "markdown",
   "id": "53862ae2",
   "metadata": {},
   "source": [
    "Remember that lists are <b>indexed starting at 0.</b> So the first item has position 0, the second item has position 1, and so on. This start-from-zero numbering is common to almost all programming languages."
   ]
  },
  {
   "cell_type": "code",
   "execution_count": null,
   "id": "a5373095",
   "metadata": {},
   "outputs": [],
   "source": [
    "print(countries[0]) # Kenya\n",
    "print(countries[1] + \" is a nice place to visit\") # Ghana is a nice place to visit"
   ]
  },
  {
   "cell_type": "markdown",
   "id": "ad043c23",
   "metadata": {},
   "source": [
    "## Practice: Access List Items\n",
    "\n",
    "👩🏿‍💻 Practice accessing items in a list. Modify the code below by following instructions in the comments."
   ]
  },
  {
   "cell_type": "code",
   "execution_count": null,
   "id": "926d5093",
   "metadata": {},
   "outputs": [],
   "source": [
    "tallest_buildings = [\"Burj Khalifa\", \"Merdeka 118\", \"Shanghai Tower\", \"Abraj Al-Bait Clock Tower\", \"Ping An International Finance Centre\", \"Lotte World Tower\"]\n",
    "\n",
    "# Access \"Burj Khalifa\" and \"Shanghai Tower\"\n",
    "# \"Lotte World Tower\" is taller than \"Merdeka 118\"\n",
    "\n",
    "# Type your code here"
   ]
  },
  {
   "cell_type": "markdown",
   "id": "f7cc5427",
   "metadata": {},
   "source": [
    "## More about lists\n",
    "\n",
    "### IndexError\n",
    "If you try to access a value past the end of the list, Python will raise an error:"
   ]
  },
  {
   "cell_type": "code",
   "execution_count": null,
   "id": "46e01cc5",
   "metadata": {},
   "outputs": [],
   "source": [
    "print(countries) # ['Kenya', 'Ghana', 'Ethiopia', 'Zimbabwe']\n",
    "countries[3] # \"Zimbabwe\"\n",
    "countries[4] # IndexError: list index out of range"
   ]
  },
  {
   "cell_type": "markdown",
   "id": "383727de",
   "metadata": {},
   "source": [
    "### len\n",
    "\n",
    "To keep from going out of bounds, you can get the length of the list with the function len:"
   ]
  },
  {
   "cell_type": "code",
   "execution_count": null,
   "id": "a0c9cc93",
   "metadata": {},
   "outputs": [],
   "source": [
    "len(countries) # 4"
   ]
  },
  {
   "cell_type": "markdown",
   "id": "1cd152e5",
   "metadata": {},
   "source": [
    "### Last item\n",
    "\n",
    "If there are 4 elements, then the last index is 3.\n",
    "\n",
    "Since we start counting at 0, the last element is always at index <i>one less than the length of the list.</i>"
   ]
  },
  {
   "cell_type": "code",
   "execution_count": null,
   "id": "26ed803c",
   "metadata": {},
   "outputs": [],
   "source": [
    "countries = ['Kenya', 'Ghana', 'Ethiopia', 'Zimbabwe']\n",
    "last_index = len(countries) - 1 # 3\n",
    "countries[last_index] # \"Zimbabwe\"\n",
    "countries[len(countries) - 1] # \"Zimbabwe\""
   ]
  },
  {
   "cell_type": "markdown",
   "id": "257dcb76",
   "metadata": {},
   "source": [
    "### Negative indexes\n",
    "\n",
    "Python has a shorthand for accessing elements from the end of the list:"
   ]
  },
  {
   "cell_type": "code",
   "execution_count": null,
   "id": "3ff36945",
   "metadata": {},
   "outputs": [],
   "source": [
    "countries[-1] # \"Zimbabwe\"\n",
    "countries[-2] # \"Ethiopia\""
   ]
  },
  {
   "cell_type": "markdown",
   "id": "1b2cff32",
   "metadata": {},
   "source": [
    "Negative indices start counting from the end of the list, so -1 is the last index, and -2 is the second-to-last, and so on.\n",
    "\n",
    "# Mutating Lists\n",
    "\n",
    "Lists are <b>mutable.</b>\n",
    "\n",
    "In programming, 'mutate' means ‘change’. Mutable means we can change the lists.\n",
    "\n",
    "We can:\n",
    "\n",
    "- assign a new value to a list index\n",
    "- add and remove items from a list\n",
    "- change the order of items\n",
    "\n",
    "## Assigning new values\n",
    "\n",
    "We can change any element of a list by assigning at an index.\n",
    "\n",
    "For example, to change the second item in the list above to the \"Nigeria\", we can assign to index 1, like this:"
   ]
  },
  {
   "cell_type": "code",
   "execution_count": null,
   "id": "9e0b8c62",
   "metadata": {},
   "outputs": [],
   "source": [
    "# The old list\n",
    "countries = [\"Kenya\", \"Ghana\", \"Ethiopia\", \"Zimbabwe\"]\n",
    "# Change the second item\n",
    "countries[1] = 'Nigeria'\n",
    "# The new list\n",
    "print(countries) # ['Kenya', 'Nigeria', 'Ethiopia', 'Zimbabwe']"
   ]
  },
  {
   "cell_type": "markdown",
   "id": "30459424",
   "metadata": {},
   "source": [
    "## Adding an item to the end of a list\n",
    "\n",
    "To add a new element to the end of the list, you use .append()"
   ]
  },
  {
   "cell_type": "code",
   "execution_count": null,
   "id": "46fd16f4",
   "metadata": {},
   "outputs": [],
   "source": [
    "countries.append(\"Cameroon\")\n",
    "print(countries) # ['Kenya', 'Nigeria', 'Ethiopia', 'Zimbabwe', 'Cameroon']"
   ]
  },
  {
   "cell_type": "markdown",
   "id": "1f48b6e9",
   "metadata": {},
   "source": [
    "## Removing an item\n",
    "\n",
    "To remove an item from a list, you use pop(). With no arguments, pop removes the last element."
   ]
  },
  {
   "cell_type": "code",
   "execution_count": null,
   "id": "a298645f",
   "metadata": {},
   "outputs": [],
   "source": [
    "countries = ['Kenya', 'Nigeria', 'Ethiopia', 'Zimbabwe', 'Cameroon']\n",
    "print(countries) # ['Kenya', 'Nigeria', 'Ethiopia', 'Zimbabwe', 'Cameroon']\n",
    "countries.pop() # removes the last element, \"Cameroon\"\n",
    "print(countries) # ['Kenya','Nigeria', 'Ethiopia', 'Zimbabwe']"
   ]
  },
  {
   "cell_type": "markdown",
   "id": "b3242ad9",
   "metadata": {},
   "source": [
    "Or, you can specify an index to remove, and pop() will remove the element at that index."
   ]
  },
  {
   "cell_type": "code",
   "execution_count": null,
   "id": "63c3340c",
   "metadata": {},
   "outputs": [],
   "source": [
    "print(countries) # ['Kenya','Nigeria', 'Ethiopia', 'Zimbabwe']\n",
    "countries.pop(1) # Removes the element at index 1, \"Nigeria\"\n",
    "print(countries) # ['Kenya', 'Ethiopia', 'Zimbabwe']"
   ]
  },
  {
   "cell_type": "markdown",
   "id": "a2ea054e",
   "metadata": {},
   "source": [
    "## Practice\n",
    "\n",
    "👩🏿‍💻 Modify the code below to perform operations on a list.\n",
    "\n",
    "1. Change 10 to 5\n",
    "2. Change 50 to 'dog'\n",
    "3. Remove 20 \n",
    "4. Add False \n",
    "5. Find the number of elements in the list"
   ]
  },
  {
   "cell_type": "code",
   "execution_count": null,
   "id": "92a1f41b",
   "metadata": {},
   "outputs": [],
   "source": [
    "items = [10, 20, 30, 40, 50]\n",
    "\n",
    "# Type your code here"
   ]
  },
  {
   "cell_type": "markdown",
   "id": "f9f61afb",
   "metadata": {},
   "source": [
    "# Practice lists\n",
    "\n",
    "<i>Estimated Time: 1 hour</i>\n",
    "\n",
    "```\n",
    "💡 This is your chance to put what you’ve learned into action. Try solving these practice challenges to check that you understand the concepts.\n",
    "```\n",
    "\n",
    "The solutions to each challenge are available in Replit, and you can view a video of the solution below each challenge. Try to go through the whole challenge without using the solution.\n",
    "\n",
    "<i>If you can’t do the challenge without looking the solution, it means you don’t understand the material well enough yet. Try the next practice challenge without looking at the solution. If you need more practice challenges, reach out on Discord.</i>\n",
    "\n",
    "<b>If you get stuck</b>\n",
    "\n",
    "1. Read the instructions again.\n",
    "2. Remember Go Climb Kibo - first Google, then ask the Community on Discord, then reach out to Kibo instructional team.\n",
    "3. You can click ‘Submit’ in Replit to view a solution. Don’t forget to try the solution out in your own code, and submit the project again.\n",
    "\n",
    "## Squad Mates\n",
    "\n",
    "👥 Write a program that creates a list with the names of your squad mates and prints them out"
   ]
  },
  {
   "cell_type": "code",
   "execution_count": null,
   "id": "46694100",
   "metadata": {},
   "outputs": [],
   "source": [
    "# Type your code here"
   ]
  },
  {
   "cell_type": "markdown",
   "id": "2ed1e394",
   "metadata": {},
   "source": [
    "## Safari Animals\n",
    "🦁 Write a program to print out the description of a zoo animal, based on user input."
   ]
  },
  {
   "cell_type": "code",
   "execution_count": null,
   "id": "0260cc83",
   "metadata": {},
   "outputs": [],
   "source": [
    "# Type your code here"
   ]
  },
  {
   "cell_type": "markdown",
   "id": "cd1491f7",
   "metadata": {},
   "source": [
    "## Roster Change\n",
    "\n",
    "⚽ There have been some changes to the roster. Write a program that makes the changes to the list and shows the old and new rosters."
   ]
  },
  {
   "cell_type": "code",
   "execution_count": null,
   "id": "e320ef81",
   "metadata": {},
   "outputs": [],
   "source": [
    "# Type your code here"
   ]
  },
  {
   "cell_type": "markdown",
   "id": "c8bfbe7a",
   "metadata": {},
   "source": [
    "# Loop patterns\n",
    "\n",
    "<i>Estimated Time: 40 minutes</i>\n",
    "\n",
    "You’ve learned and practiced some of the core actions of working with lists. You can create a list, add and remove items, and perform actions for all of the items. Now it’s time to learn to write code that uses lists and loops to solve problems.\n",
    "\n",
    "Using lists and loops together, you can answer questions about data.\n",
    "\n",
    "- <i>What’s the smallest (or largest) item in this list?</i>\n",
    "- <i>What’s the sum of all the items in the list? What’s the average?</i>\n",
    "- <i>iWhat are the items in the list that fit this condition?</i>\n",
    "\n",
    "When solving more complicated problems with lists, it’s also helpful to have more powerful debugging techniques. In this lesson, you’ll learn problem solving with loops, including common patterns and strategies for figuring things out.\n",
    "\n",
    "## Looping through a list with for\n",
    "\n",
    "When you first saw the for loop, you learned that it could loop through a list, or through a range. You’ve been using this the whole time, but as a quick refresher, here’s a loop that will print the numbers from 5 down to 1:"
   ]
  },
  {
   "cell_type": "code",
   "execution_count": null,
   "id": "3864b716",
   "metadata": {},
   "outputs": [],
   "source": [
    "for number in [5,4,3,2,1]:\n",
    "    print(number)"
   ]
  },
  {
   "cell_type": "markdown",
   "id": "0ea67b89",
   "metadata": {},
   "source": [
    "And here’s another version, using range:"
   ]
  },
  {
   "cell_type": "code",
   "execution_count": null,
   "id": "b1c699fb",
   "metadata": {},
   "outputs": [],
   "source": [
    "for number in range(5,0,-1): # start at 5, go down to (but not including) 0, by -1 each time\n",
    "    print(number)"
   ]
  },
  {
   "cell_type": "markdown",
   "id": "6ffbd34c",
   "metadata": {},
   "source": [
    "We’ll be using for loops for almost all of the loop and list problems here. A while loop can work in some circumstances, but it’s usually a little more work.\n",
    "\n",
    "### Sum of numbers in a list\n",
    "\n",
    "Here’s a python program to add up all the numbers between 1 and 10:"
   ]
  },
  {
   "cell_type": "code",
   "execution_count": null,
   "id": "403788a5",
   "metadata": {},
   "outputs": [],
   "source": [
    "total = 0\n",
    "for number in [1,2,3,4,5,6,7,8,9,10]:\n",
    "    total += number\n",
    "\n",
    "print(total) # 55"
   ]
  },
  {
   "cell_type": "markdown",
   "id": "dd0e3023",
   "metadata": {},
   "source": [
    "Here’s what this program does:\n",
    "\n",
    "- <b>Step 1:</b> Creates a variable called total, which starts at 0\n",
    "- <b>Step 2:</b> Loop through the numbers 1 through 10. Increase total by the number each time.\n",
    "- <b>Step 3:</b> After the loop, print out the total"
   ]
  },
  {
   "cell_type": "markdown",
   "id": "aa2a7f16",
   "metadata": {},
   "source": [
    "⚠️ <b>Common Mistake</b>: If you create a variable inside the loop, it will get re-created from scratch each time the loop body executes.\n",
    "\n",
    "To make sure you are updating the variable every iteration, you have to <b>create the variable before the loop.</b>\n",
    "\n",
    "Here is the wrong version. total is created inside the loop, so it doesn’t work. <b>Don’t do this!</b>"
   ]
  },
  {
   "cell_type": "code",
   "execution_count": null,
   "id": "4995c5e1",
   "metadata": {},
   "outputs": [],
   "source": [
    "for number in range(1,11):\n",
    "     total = 0          # total gets re-assigned 0 every time the loop body runs\n",
    "     total += number\n",
    "\n",
    "print(total) # 10   <- WRONG!"
   ]
  },
  {
   "cell_type": "markdown",
   "id": "76e8635c",
   "metadata": {},
   "source": [
    "## Solving problems using loops\n",
    "\n",
    "Many loop problems can be solved using the pattern in this example: update the variable every time you go through the loop. In this lesson, you’ll see lots of different problems you can solve with this pattern.\n",
    "\n",
    "🔑 Common pattern\n",
    "\n",
    "<b>Step 1:</b> Create a variable before the loop starts and set the initial value.\n",
    "\n",
    "<b>Step 2:</b> Perform some computation on each item in the loop body, which may change the value of the variable.\n",
    "\n",
    "<b>Step 3:</b> Use the value of the variable when the loop completes.\n",
    "\n",
    "Let’s try it out.\n",
    "\n",
    "## Practice\n",
    "\n",
    "🔢 Find the sum of the even numbers from 10 to 100 (including 10 and 100).\n",
    "\n",
    "Remember, you can use the third argument to range to control the step size."
   ]
  },
  {
   "cell_type": "code",
   "execution_count": null,
   "id": "38c67d17",
   "metadata": {},
   "outputs": [],
   "source": [
    "# Type your code here"
   ]
  },
  {
   "cell_type": "markdown",
   "id": "fe3ef9cd",
   "metadata": {},
   "source": [
    "# Conditions and Lists\n",
    "\n",
    "## Check if an item is in the list\n",
    "\n",
    "Sometimes you want to find out if some item is in the list. You can use the same pattern as before, but with a different change to the variable in the loop body.\n",
    "\n",
    "Here’s an example:"
   ]
  },
  {
   "cell_type": "code",
   "execution_count": null,
   "id": "0950c5c3",
   "metadata": {},
   "outputs": [],
   "source": [
    "# Does the list have string \"Python\" in it?\n",
    "languages = [\"Ruby\", \"JavaScript\", \"C\", \"Rust\", \"Smalltalk\", \"Clojure\", \"Python\"]\n",
    "\n",
    "has_match = False\n",
    "for language in languages:\n",
    "    if language == \"Python\":\n",
    "        has_match = True\n",
    "\n",
    "print(has_match)"
   ]
  },
  {
   "cell_type": "markdown",
   "id": "75ec3833",
   "metadata": {},
   "source": [
    "It’s the same pattern as before, but with an if statement in Step 2.\n",
    "\n",
    "- 🔑 Step 1: Create a variable called has_match, which starts as False\n",
    "- 🔑 Step 2: Loop through the strings in the list. If the string matches, set has_match to True\n",
    "- 🔑 Step 3: Print out the has_match variable\n",
    "\n",
    "```\n",
    "⚠️ Note: You could use the in operator for this problem.\n",
    "\n",
    "- in is easier if we want to check for a specific item.\n",
    "- Using a loop makes it possible to check more complicated conditions like “Is there a string in this list longer than 40 characters?”\n",
    "```\n",
    "\n",
    "## Filter a list\n",
    "\n",
    "Sometimes, you want to find only the values in your list that meet a certain condition.\n",
    "\n",
    "Again, we can use the three step pattern. The variable we are updating will be a new list, with just the filtered values"
   ]
  },
  {
   "cell_type": "code",
   "execution_count": null,
   "id": "7ef1622b",
   "metadata": {},
   "outputs": [],
   "source": [
    "numbers = [62, 60, 53, 53, 33, 3, 25, 61, 36, 1, 69, 55, 56, 39, 32, 76, 20, 62, 47]\n",
    "# Write a program to find all the even numbers in the list\n",
    "evens = []\n",
    "for element in numbers:\n",
    "  if element % 2 == 0:\n",
    "        evens.append(element)\n",
    "\n",
    "print(evens) # [62, 60, 36, 56, 32, 76, 20, 62]"
   ]
  },
  {
   "cell_type": "markdown",
   "id": "005ad177",
   "metadata": {},
   "source": [
    "We use an if statement and the modulo operator to find the even values, and add them to the list.\n",
    "\n",
    "## Practice: Sum of Odds\n",
    "\n",
    "👩🏿‍💻 Write a loop that finds the total of all the odd numbers in the list."
   ]
  },
  {
   "cell_type": "code",
   "execution_count": null,
   "id": "6849ae08",
   "metadata": {},
   "outputs": [],
   "source": [
    "numbers = [62, 60, 53, 53, 33, 3, 25, 61, 36, 1, 69, 55, 56, 39, 32, 76, 20, 62, 47]\n",
    "\n",
    "# Type your code here"
   ]
  },
  {
   "cell_type": "markdown",
   "id": "e026ff7b",
   "metadata": {},
   "source": [
    "## Smallest Item\n",
    "\n",
    "Finding the minimum value in a list uses the same pattern. Step through the elements of the list, and update a variable that is tracking the current minimum value.\n",
    "\n",
    "Each time through the loop, check if the number is smaller than the current minimum value. If it is, then it’s the new minimum value.\n",
    "\n",
    "We can use the first value in the list as the initial value of the minimum."
   ]
  },
  {
   "cell_type": "code",
   "execution_count": null,
   "id": "a465d995",
   "metadata": {},
   "outputs": [],
   "source": [
    "numbers =  [62, 60, -53, 53, 33, -3, 25, 81, 36, 1, 69, 55, 56, 39, -32, -76, 20, 62, 47]\n",
    "minimum = numbers[0]\n",
    "for number in numbers:\n",
    "    if number < minimum:\n",
    "        minimum = number\n",
    "\n",
    "print(minimum) # -76"
   ]
  },
  {
   "cell_type": "markdown",
   "id": "3a5fdbd5",
   "metadata": {},
   "source": [
    "With one small change, this same code works to find the largest value instead.\n",
    "\n",
    "## Practice: Interactive Minimum\n",
    "    \n",
    "👩🏿‍💻 Follow the prompts in the comments to write a program to find the smallest number among numbers the user enters.\n",
    "\n",
    "<b>Hint:</b> Use an input to ask for the number of numbers you will enter and use that as a base"
   ]
  },
  {
   "cell_type": "code",
   "execution_count": null,
   "id": "38b9e84e",
   "metadata": {},
   "outputs": [],
   "source": [
    "# Type your code here"
   ]
  },
  {
   "cell_type": "markdown",
   "id": "92741cf0",
   "metadata": {},
   "source": [
    "# Practice lists and loops\n",
    "\n",
    "<i>Estimated Time: 1 hour</i>\n",
    "\n",
    "```\n",
    "💡 This is your chance to put what you’ve learned into action. Try solving these practice challenges to check that you understand the concepts.\n",
    "```\n",
    "\n",
    "The solutions to each challenge are available in Replit, and you can view a video of the solution below each challenge. Try to go through the whole challenge without using the solution.\n",
    "\n",
    "<i>If you can’t do the challenge without looking the solution, it means you don’t understand the material well enough yet. Try the next practice challenge without looking at the solution. If you need more practice challenges, reach out on Discord.</i>\n",
    "\n",
    "<b>If you get stuck</b>\n",
    "\n",
    "1. Read the instructions again.\n",
    "2. Remember Go Climb Kibo - first Google, then ask the Community on Discord, then reach out to Kibo instructional team.\n",
    "3. You can click ‘Submit’ in Replit to view a solution. Don’t forget to try the solution out in your own code, and submit the project again.\n",
    "\n",
    "## Longest Word\n",
    "\n",
    "💬 In this assignment, you'll practice finding the longest word in a list."
   ]
  },
  {
   "cell_type": "code",
   "execution_count": null,
   "id": "605de5a3",
   "metadata": {},
   "outputs": [],
   "source": [
    "# Type your code here"
   ]
  },
  {
   "cell_type": "markdown",
   "id": "ab6c7829",
   "metadata": {},
   "source": [
    "## List Average\n",
    "\n",
    "🔢 Calculate the average of numbers in a list."
   ]
  },
  {
   "cell_type": "code",
   "execution_count": null,
   "id": "32c10a2e",
   "metadata": {},
   "outputs": [],
   "source": [
    "# Type your code here"
   ]
  },
  {
   "cell_type": "markdown",
   "id": "6d04aa26",
   "metadata": {},
   "source": [
    "# Project\n",
    "\n",
    "<i>Estimated time: 2 hours</i>\n",
    "\n",
    "## Team Project: Team Info Bot\n",
    "\n",
    "<b>Due date: Sunday July 31</b>\n",
    "\n",
    "```\n",
    "👥 This is a pair project. Pair up with a teammate (or two max) to work with you on this one.\n",
    "\n",
    "If you have trouble collaborating, or get stuck on the project, use the #help-python channel in Discord or message an instructor.\n",
    "```\n",
    "\n",
    "<b>🤖 Team Info Bot</b>\n",
    "\n",
    "This is your chance to be creative with your teammates. You can make a really fun and funny project together that meets all the requirements."
   ]
  },
  {
   "cell_type": "code",
   "execution_count": null,
   "id": "3b5e138e",
   "metadata": {},
   "outputs": [],
   "source": [
    "# Type your code here"
   ]
  },
  {
   "cell_type": "markdown",
   "id": "80dc3d73",
   "metadata": {},
   "source": [
    "# Wrap up\n",
    "\n",
    "## Summary\n",
    "\n",
    "- Lists store multiple pieces of data, like [1, \"hello\", [ \"another list\" ], False]\n",
    "- You access list elements by their index, which starts at 0, like my_list[0]\n",
    "- You can change list contents by assigning at an index, appending, or removing elements\n",
    "    - assigning: my_list[0] = 5\n",
    "    - appending my_list.append(10)\n",
    "    - removing my_list.pop(2)\n",
    "- You can solve many problems by updating a variable at each step in a loop\n",
    "    - total and average\n",
    "    - maximum and minimum\n",
    "    - finding and filtering"
   ]
  }
 ],
 "metadata": {
  "kernelspec": {
   "display_name": "Python 3 (ipykernel)",
   "language": "python",
   "name": "python3"
  },
  "language_info": {
   "codemirror_mode": {
    "name": "ipython",
    "version": 3
   },
   "file_extension": ".py",
   "mimetype": "text/x-python",
   "name": "python",
   "nbconvert_exporter": "python",
   "pygments_lexer": "ipython3",
   "version": "3.11.5"
  }
 },
 "nbformat": 4,
 "nbformat_minor": 5
}
