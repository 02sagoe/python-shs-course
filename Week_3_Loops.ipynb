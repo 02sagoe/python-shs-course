{
 "cells": [
  {
   "cell_type": "markdown",
   "id": "7d385706",
   "metadata": {},
   "source": [
    "# Loops\n",
    "\n",
    "### Intro\n",
    "\n",
    "We often want code to run again and again, until it’s time to stop. We might need to run part of the program for a certain number of time or as long as some condition is true. In this weeks’s lessons, we will learn how to do that using loops.\n",
    "\n",
    "## Learning Outcomes\n",
    "After this week, you will be able to:\n",
    "\n",
    "- Use loops to repeat code\n",
    "- Break programming problems into small parts and gradually build up a solution"
   ]
  },
  {
   "cell_type": "markdown",
   "id": "8a4ae128",
   "metadata": {},
   "source": [
    "# While loops\n",
    "\n",
    "<i>Estimated Time: 1 hour</i>\n",
    "\n",
    "Often, we want code to keep going. For example, a password prompt might ask a user for their password until they enter a valid value. The program doesn’t know ahead of time how many tries the user will need. Instead, it knows when to stop asking — when the user enters a valid password. This type of situation is perfect for a while loop.\n",
    "\n",
    "In this section, we'll learn about while loops. while loops repeat a block of code until a condition is met.\n",
    "\n",
    "#### while loops\n",
    "```\n",
    "📗 A while loop is a way to repeat code while a certain condition is true.\n",
    "```\n",
    "\n",
    "The syntax looks like this:\n",
    "\n",
    "``\n",
    "while condition:\n",
    "``\n",
    "\n",
    "``\n",
    "    block of code to execute\n",
    "``    \n",
    "    \n",
    "It’s a lot like an if statement. It checks the condition, then runs the block of code if the condition is True.\n",
    "\n",
    "Unlike an if statement, however, after executing the block, a while loop checks the condition again and again. It only stops when the condition becomes False.\n",
    "\n",
    "Here’s a flow chart depicting a while loop:\n",
    "\n",
    "<>p8<>"
   ]
  },
  {
   "cell_type": "markdown",
   "id": "871eb12c",
   "metadata": {},
   "source": [
    "The flow of a while statement is:\n",
    "\n",
    "1. Evaluate the condition, the result will be True or False.\n",
    "\n",
    "2. If the condition is False, exit the while statement and continue execution at the next statement (after the while loop block).\n",
    "\n",
    "3. If the condition is True, execute the body of the while statement and go back to Step 1"
   ]
  },
  {
   "cell_type": "code",
   "execution_count": null,
   "id": "07b7d026",
   "metadata": {},
   "outputs": [],
   "source": [
    "## Examples\n",
    "\n",
    "Here's an example asking the user for password:\n",
    "\n",
    "# Set up the password\n",
    "password = \"super secret\"\n",
    "user_entry = \"\"\n",
    "\n",
    "# While loop\n",
    "while user_entry != password:\n",
    "    user_entry = input(\"What's the password?\")"
   ]
  },
  {
   "cell_type": "markdown",
   "id": "f5c51936",
   "metadata": {},
   "source": [
    "In the example above, the program will keep prompting the user for a password while the user's input is not the expected value.\n",
    "\n",
    "Below is another example:"
   ]
  },
  {
   "cell_type": "code",
   "execution_count": null,
   "id": "0da0531e",
   "metadata": {},
   "outputs": [],
   "source": [
    "n = 5\n",
    "while n > 0:\n",
    "    print(n)\n",
    "    n = n - 1\n",
    "print('Blastoff!')"
   ]
  },
  {
   "cell_type": "markdown",
   "id": "d2096e14",
   "metadata": {},
   "source": [
    "You can read the code in English as:\n",
    "\n",
    "- The initial value of n is 5\n",
    "- While n is greater than 0, display the value of n, and then reduce the value of n by 1\n",
    "- When n is no longer greater than 0, display the string Blastoff!\n",
    "\n",
    "The code will output:\n",
    "\n",
    "```\n",
    "5\n",
    "4\n",
    "3\n",
    "2\n",
    "1\n",
    "Blastoff!\n",
    "```\n",
    "\n",
    "The condition we are checking before every loop is: \"Is n greater than zero?\" This is a boolean expression that will yield either True for 5, 4, 3, 2, and 1, or False when the value of n is 0.\n",
    "\n",
    "## What does a loop look like?"
   ]
  },
  {
   "cell_type": "code",
   "execution_count": null,
   "id": "8a3257d9",
   "metadata": {},
   "outputs": [],
   "source": [
    "a = 1\n",
    "while a < 10:\n",
    "    print(a)\n",
    "    a += 2"
   ]
  },
  {
   "cell_type": "markdown",
   "id": "83bfe553",
   "metadata": {},
   "source": [
    "Let’s visualize how this code runs:\n",
    "\n",
    "In the animation, you can see the variable a change over time, and the loop condition checked before each execution of the loop body.\n",
    "\n",
    "👉🏿 Step through this code interactively on \n",
    "\n",
    "```\n",
    "www.pythontutor.com\n",
    "```\n",
    "\n",
    "# Loop Vocabulary\n",
    "\n",
    "A while loop has a condition and a body. The <b>condition</b> is what gets checked each time. The <b>body</b> is the code that runs again and again. Just like an if statement, the body code has to be indented.\n",
    "\n",
    "Every execution of the body of a while loop is called an <b>iteration</b>. In the blastoff example, the body of the loop was executed five times, so the loop has five iterations.\n",
    "\n",
    "Whether or not the loop body will be executed depends on whether or not the condition evaluates to True or False.\n",
    "\n",
    "In the ‘blastoff’ example above, the loop is controlled by an <b>iteration variable</b> n which tells the loop whether or not to proceed. The body of the loop changes the value of n each time the loop runs, so that the loop eventually finishes running.\n",
    "\n",
    "If n did not change, the loop would repeat forever, creating an <b>infinite loop.</b>\n",
    "\n",
    "### Infinite loop\n",
    "\n",
    "An infinite loop is a loop that runs forever. For example:"
   ]
  },
  {
   "cell_type": "markdown",
   "id": "a29bb0aa",
   "metadata": {},
   "source": [
    "x = 4\n",
    "while x > 0:\n",
    "    print(\"Run on!\")\n",
    "print (\"Done!\")"
   ]
  },
  {
   "cell_type": "markdown",
   "id": "9fb582dd",
   "metadata": {},
   "source": [
    "4 is always greater than 0, and x never changes, so the loop runs forever.\n",
    "\n",
    "If you accidentally write an infinite loop, you will have to figure out how to stop it. Sometimes you’ll need to force-close the program. If you accidentally run an infinite loop in Replit, press “Stop” at the top of the page, or press Control + C in the console.\n",
    "\n",
    "### Infinite Loop Demo"
   ]
  },
  {
   "cell_type": "markdown",
   "id": "c9c1e650",
   "metadata": {},
   "source": [
    "Practice: Loop Prediction\n",
    "🤔 Look at the following code snippet. What will the output be? Why?\n",
    "\n",
    "Think about it, write down what you think the result will be, then expand the solution."
   ]
  },
  {
   "cell_type": "code",
   "execution_count": null,
   "id": "3fb238f5",
   "metadata": {},
   "outputs": [],
   "source": [
    "i = 10\n",
    "while i > 13:\n",
    "  print ('This is a while loop')\n",
    "  i = i + 1"
   ]
  },
  {
   "cell_type": "markdown",
   "id": "c8d756ae",
   "metadata": {},
   "source": [
    "## Practice\n",
    "\n",
    "👩🏿‍💻 Write a while loop that displays the integers 1 through 10. Follow the code comments in the below Replit exercise."
   ]
  },
  {
   "cell_type": "markdown",
   "id": "d894542d",
   "metadata": {},
   "source": [
    "# For loops\n",
    "\n",
    "<i>Estimated Time: 1 hour</i>\n",
    "\n",
    "We often want code to run again and again, until it’s time to stop. We learned that a while loop is a great tool when you know the stopping condition.\n",
    "\n",
    "In this section we will explore a second tool for repeating code: the for loop. A for loop is a good fit when we want to run a block of code a definite number of times, or when we want to iterate over list of things.\n",
    "\n",
    "# for Loops\n",
    "for loops step through a list of items in order. Each iteration will assign the next item to the loop variable, then execute the loop body.\n",
    "\n",
    "The syntax of a for loop starts with the for keyword, and has an indented loop body. A for loop has a variable name, the in keyword, and a list of things to loop through.\n",
    "\n",
    "`\n",
    "for variable in items:\n",
    "`\n",
    "\n",
    "`\n",
    "    loop body to execute\n",
    "`\n",
    "\n",
    "The flow chart of a for loop is:\n",
    "\n",
    "<>p9<>\n",
    "\n",
    "Let's take a look at an example of a for loop:"
   ]
  },
  {
   "cell_type": "code",
   "execution_count": null,
   "id": "aa25612b",
   "metadata": {},
   "outputs": [],
   "source": [
    "for i in [5, 4, 3, 2, 1] :\n",
    "    print(i)\n",
    "print('Blastoff!')"
   ]
  },
  {
   "cell_type": "code",
   "execution_count": null,
   "id": "664d82dd",
   "metadata": {},
   "outputs": [],
   "source": [
    "This for loop will have the same output as the while loop we saw in the previous section:\n",
    "\n",
    "5\n",
    "4\n",
    "3\n",
    "2\n",
    "1\n",
    "Blastoff!\n",
    "Let’s compare the for loop with the while loop : "
   ]
  },
  {
   "cell_type": "code",
   "execution_count": null,
   "id": "be7c93e2",
   "metadata": {},
   "outputs": [],
   "source": [
    "for i in [5, 4, 3, 2, 1] :\n",
    "    print(i)\n",
    "print('Blastoff!')\n",
    "n = 5\n",
    "while n > 0:\n",
    "    print(n)\n",
    "    n = n - 1\n",
    "print('Blastoff!')"
   ]
  },
  {
   "cell_type": "markdown",
   "id": "ff884bad",
   "metadata": {},
   "source": [
    "🤔 Compare the two code examples above (the for loop and the while loop). What do you notice about them?\n",
    "\n",
    "```\n",
    "while vs. for\n",
    "```\n",
    "\n",
    "## for loop iteration variable\n",
    "The initial statement in the for loop is:\n",
    "\n",
    "````\n",
    "for i in [5,4,3,2,1]:\n",
    "````\n",
    "\n",
    "In this code, the loop creates a new variable i. The value of i will change in each iteration of the loop, to take on the value of each item in the list. In this example, i will take on successive values of 5, 4, 3, 2, and 1.\n",
    "\n",
    "As you can see, for loops offer a more direct syntax than while loops, because you can explicitly declare the values of the iteration variable.\n",
    "\n",
    "We’ll cover the list syntax [5, 4, 3, 2, 1] in more detail later in the course. For now, you can use it to write for loops, without knowing exactly what it means. You can put any values inside the [], and the loop variable will be assigned to each value in turn.\n",
    "\n",
    "## Practice\n",
    "\n",
    "👩🏿‍💻 Write a for loop that displays Hello, plus each name in the list"
   ]
  },
  {
   "cell_type": "markdown",
   "id": "1960e0dc",
   "metadata": {},
   "source": [
    "# Range function\n",
    "\n",
    "Estimated Time: 30 minutes\n",
    "\n",
    "Range function\n",
    "\n",
    "There’s another way to tell the for loop what values to iterate over. range() is a function that generates a series of numbers within a certain range."
   ]
  },
  {
   "cell_type": "code",
   "execution_count": null,
   "id": "0cef3420",
   "metadata": {},
   "outputs": [],
   "source": [
    "# Same loop as before, using range()\n",
    "for i in range(5,0,-1):\n",
    "    print(i)\n",
    "print(\"Blastoff!\")"
   ]
  },
  {
   "cell_type": "markdown",
   "id": "c67b590a",
   "metadata": {},
   "source": [
    "```\n",
    "5\n",
    "4\n",
    "3\n",
    "2\n",
    "1\n",
    "Blastoff!\n",
    "```\n",
    "For longer lists of numbers, range is easier than typing the whole thing out.\n",
    "\n",
    "The syntax for the range function is below.\n",
    "\n",
    "`\n",
    "range(start, stop, step)\n",
    "`\n",
    "\n",
    "- start specifies the first value of the range.\n",
    "- stop specifies the stopping point.\n",
    "    - The stop value is not included in the range, so range(1,10) will only go up to 9.\n",
    "- step specifies how much to count by each time. range(2,10, 2) produces 2, 4, 6, 8.\n",
    "    - The default value is 1, which means that if you leave step out, range will count by 1.\n",
    "\n",
    "Here’s some examples using range:"
   ]
  },
  {
   "cell_type": "code",
   "execution_count": null,
   "id": "8c4be401",
   "metadata": {},
   "outputs": [],
   "source": [
    "# Print the numbers 1-10\n",
    "for n in range(1,11): # 11 is not included!\n",
    "    print(n)\n",
    "\n",
    "# Print the numbers 5, 10, 15, 20... 100, counting by 5s\n",
    "for number in range(5, 101, 5):\n",
    "    print(number)\n",
    "\n",
    "# Print the numbers counting down from 5 to 1\n",
    "for i in range(5,0,-1):\n",
    "    print(i)\n",
    "print(\"Blastoff!\")"
   ]
  },
  {
   "cell_type": "markdown",
   "id": "942950a8",
   "metadata": {},
   "source": [
    "## Range Practice\n",
    "\n",
    "🎯 Practice writing for loops that use range.\n",
    "\n",
    "- Print the numbers from 4 to 14\n",
    "- Print the numbers from -10 to 10\n",
    "- Print the numbers from 1 to 20, counting by 2s\n",
    "- Print the numbers from 1000 to 500, counting backwards by 100s"
   ]
  },
  {
   "cell_type": "markdown",
   "id": "b8bf1cef",
   "metadata": {},
   "source": [
    "# Debugging loops\n",
    "\n",
    "<i>Estimated Time: 1 hour</i>\n",
    "\n",
    "Usually it takes more than one try to write the code to solve a problem with loops. When the code isn’t working correctly, you need a strategy for figuring out what is happening, and to fix it.\n",
    "\n",
    "## Loop debugging: Printing each step\n",
    "\n",
    "<b>Printing values at each step</b> is a strategy for debugging what’s happening in your loop. Let’s see what it looks like.\n",
    "\n",
    "Here’s some broken code for solving a loop problem:"
   ]
  },
  {
   "cell_type": "code",
   "execution_count": null,
   "id": "3486ce13",
   "metadata": {},
   "outputs": [],
   "source": [
    "# Find the total of the even numbers from 2 to 12\n",
    "total = 0\n",
    "for i in range(1,12,2):\n",
    "    total + i\n",
    "print(total) # 0  <- Wrong, should not be 0!"
   ]
  },
  {
   "cell_type": "markdown",
   "id": "0aeb22f4",
   "metadata": {},
   "source": [
    "You might be able to spot the bug in this code, but let’s try printing out the values to debug it."
   ]
  },
  {
   "cell_type": "code",
   "execution_count": null,
   "id": "fca45163",
   "metadata": {},
   "outputs": [],
   "source": [
    "total = 0\n",
    "print(\"before the loop total is\", total)\n",
    "for i in range(1,12,2):\n",
    "    print(\"i is\", i, \"total is\", total)\n",
    "    total + i\n",
    "print(\"after the loop total is\", total)\n",
    "print(total)"
   ]
  },
  {
   "cell_type": "markdown",
   "id": "c146cce8",
   "metadata": {},
   "source": [
    "Here’s the output:\n",
    "\n",
    "```\n",
    "before the loop total is 0\n",
    "i is 1 total is 0\n",
    "i is 3 total is 0\n",
    "i is 5 total is 0\n",
    "i is 7 total is 0\n",
    "i is 9 total is 0\n",
    "i is 11 total is 0\n",
    "after the loop total is 0\n",
    "0\n",
    "```"
   ]
  },
  {
   "cell_type": "markdown",
   "id": "470a4486",
   "metadata": {},
   "source": [
    "Wow! It looks like there are actually 3 bugs!\n",
    "\n",
    "- instead of the even numbers, i is getting set to the odd numbers\n",
    "- instead of including 12, it’s stopping at 11\n",
    "- total isn’t changing at all in the loop\n",
    "\n",
    "### Fixing the code\n",
    "\n",
    "Since we can see the values, it’s much easier to tell what we need to fix.\n",
    "\n",
    "- range needs to start at 2 (instead of 1)\n",
    "- range needs to stop at 13 (instead of 12)\n",
    "- it needs to be total += i instead of total + i\n",
    "\n",
    "When we fix the code, we can leave the prints in to make sure our changes work."
   ]
  },
  {
   "cell_type": "code",
   "execution_count": null,
   "id": "cf1a40d3",
   "metadata": {},
   "outputs": [],
   "source": [
    "total = 0\n",
    "print(\"before the loop total is\", total)\n",
    "for i in range(2,13,2):\n",
    "    print(\"i is\", i, \"total is\", total)\n",
    "    total += i\n",
    "print(\"after the loop total is\", total)\n",
    "print(total)"
   ]
  },
  {
   "cell_type": "markdown",
   "id": "fd7f2b58",
   "metadata": {},
   "source": [
    "Now the output is:\n",
    "\n",
    "```\n",
    "before the loop total is 0\n",
    "i is 2 total is 0\n",
    "i is 4 total is 2\n",
    "i is 6 total is 6\n",
    "i is 8 total is 12\n",
    "i is 10 total is 20\n",
    "i is 12 total is 30\n",
    "after the loop total is 42\n",
    "42\n",
    "```"
   ]
  },
  {
   "cell_type": "markdown",
   "id": "62dbf5d0",
   "metadata": {},
   "source": [
    "Now that we can see that the code is working, we can remove the extra print statements. Here’s the final code:"
   ]
  },
  {
   "cell_type": "code",
   "execution_count": null,
   "id": "2cddf820",
   "metadata": {},
   "outputs": [],
   "source": [
    "total = 0\n",
    "for i in range(2,13,2):\n",
    "    total += i\n",
    "print(total)"
   ]
  },
  {
   "cell_type": "markdown",
   "id": "464e7263",
   "metadata": {},
   "source": [
    "## Practice\n",
    "\n",
    "🐛 Practice using print to debug a faulty loop."
   ]
  },
  {
   "cell_type": "code",
   "execution_count": null,
   "id": "e8ec2196",
   "metadata": {},
   "outputs": [],
   "source": [
    "# Type your code here\n",
    "total = 0\n",
    "for i in range(10,25,2):\n",
    "  total + i"
   ]
  },
  {
   "cell_type": "markdown",
   "id": "bf2e464a",
   "metadata": {},
   "source": [
    "## Loop debugging: Visual Tracing\n",
    "When debugging more complicated code, it’s helpful to be able to see how the code executes step by step. You can use www.pythontutor.com to run your code step by step, and see the values of all your variables as the program runs.\n",
    "\n",
    "Similar to printing out the values at each step, PythonTutor helps you see what’s happening when your code runs. That makes it easier to spot bugs.\n",
    "\n",
    "Here’s the example from before in pythontutor Try it out!\n",
    "\n",
    "https://pythontutor.com/visualize.html#mode=display"
   ]
  },
  {
   "cell_type": "markdown",
   "id": "0912a0d4",
   "metadata": {},
   "source": [
    "# Practice loops\n",
    "\n",
    "Estimated Time: 3 hours\n",
    "\n",
    "```\n",
    "💡 This is your chance to put what you’ve learned into action. Try solving these practice challenges to check that you understand the concepts.\n",
    "```\n",
    "\n",
    "The solutions to the challenges are available in Replit. You can view a video of the solution below most challenges. Try to go through the challenges without using the solution.\n",
    "\n",
    "<i>If you can’t do the challenge without looking the solution, it means you don’t understand the material well enough yet. Try the next practice challenge without looking at the solution. If you need more practice challenges, reach out on Discord.</i>\n",
    "\n",
    "<b>If you get stuck</b>\n",
    "\n",
    "Read the instructions again.\n",
    "Remember Go Climb Kibo - first Google, then ask the Community on Discord, then reach out to Kibo instructional team.\n",
    "You can click ‘Submit’ in Replit to view a solution. Don’t forget to try the solution out in your own code, and submit the project again.\n",
    "\n",
    "## Print multiples\n",
    "\n",
    "👩🏿‍💻 Write a program that prints the numbers from 1 to 100, noting the multiples of 3 and 5.\n",
    "\n",
    "Here’s what the first 10 lines of output will look like:\n",
    "\n",
    "```\n",
    "1\n",
    "2\n",
    "3 is a multiple of 3\n",
    "4\n",
    "5 is a multiple of 5\n",
    "6 is a multiple of 3\n",
    "7\n",
    "8\n",
    "9 is a multiple of 3\n",
    "10 is a multiple of 5\n",
    "```"
   ]
  },
  {
   "cell_type": "code",
   "execution_count": null,
   "id": "84eed161",
   "metadata": {},
   "outputs": [],
   "source": [
    "# Type your code here"
   ]
  },
  {
   "cell_type": "markdown",
   "id": "8300c442",
   "metadata": {},
   "source": [
    "## Scrabble Word Score\n",
    "\n",
    "👩🏿‍💻 In this example, you'll practice using loops to calculate the Scrabble score of different words."
   ]
  },
  {
   "cell_type": "markdown",
   "id": "09db6751",
   "metadata": {},
   "source": [
    "# Project\n",
    "\n",
    "<i>Estimated time: 2 hours</i>\n",
    "\n",
    "Individual Project: Guess My Number\n",
    "Due date: Sunday July 31\n",
    "\n",
    "```\n",
    "💡 This is an individual project. You are expected to work independently.\n",
    "\n",
    "If you get stuck, confused, or have trouble with the project, you should use the #help-python channel in Discord or message an instructor. Try not to spoil the project for others - use Discord spoiler tags if you are going to include a screenshot or code sample.\n",
    "```\n",
    "\n",
    "## Part 1\n",
    "🔢 Write a program that asks a user to guess the value of a number chosen between 1 and 99. Let the user know if their guess is too low, too high, or correct."
   ]
  },
  {
   "cell_type": "code",
   "execution_count": null,
   "id": "3af702af",
   "metadata": {},
   "outputs": [],
   "source": [
    "# Type your code here"
   ]
  },
  {
   "cell_type": "markdown",
   "id": "e82e2f96",
   "metadata": {},
   "source": [
    "## Part 2\n",
    "\n",
    "👩🏿‍💻 Extend your solution to Part 1. The program should generate a random number between 1 and 99, and use a while loop to let the user keep guessing until they guess right number.\n",
    "\n",
    "Remember...\n",
    "\n",
    "Read the instructions tab in Replit\n",
    "Plan before you code\n",
    "Debug if you aren't getting the desired output\n",
    "Attend office hours if you need additional support\n",
    "Ask for help in Discord"
   ]
  },
  {
   "cell_type": "code",
   "execution_count": null,
   "id": "f8401339",
   "metadata": {},
   "outputs": [],
   "source": [
    "# Type your code here"
   ]
  },
  {
   "cell_type": "markdown",
   "id": "aa106535",
   "metadata": {},
   "source": [
    "# Wrap up\n",
    "\n",
    "## Summary\n",
    "\n",
    "- while repeats code for as long as a condition is True\n",
    "\n",
    "- for repeats code for a specific number of iterations\n",
    "\n",
    "- range lets us control the start, end, and step size of a for loop\n",
    "\n",
    "- You can solve many problems by updating a variable at each step in a loop\n",
    "\n",
    "    - total and average\n",
    "    - maximum and minimum\n",
    "    - finding and filtering\n",
    "    \n",
    "- You can debug loops using print, or by stepping through the code with a debugger like pythontutor"
   ]
  }
 ],
 "metadata": {
  "kernelspec": {
   "display_name": "Python 3 (ipykernel)",
   "language": "python",
   "name": "python3"
  },
  "language_info": {
   "codemirror_mode": {
    "name": "ipython",
    "version": 3
   },
   "file_extension": ".py",
   "mimetype": "text/x-python",
   "name": "python",
   "nbconvert_exporter": "python",
   "pygments_lexer": "ipython3",
   "version": "3.11.5"
  }
 },
 "nbformat": 4,
 "nbformat_minor": 5
}
