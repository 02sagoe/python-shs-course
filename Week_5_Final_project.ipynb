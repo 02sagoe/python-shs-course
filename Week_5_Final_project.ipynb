{
 "cells": [
  {
   "cell_type": "markdown",
   "id": "a6d0cd57",
   "metadata": {},
   "source": [
    "# Final project instructions\n",
    "\n",
    "<b>In week 5 there are no new topics to learn.</b> So you’ll focus on your final project, and then work on finishing up the work from the previous weeks and wrapping up the course.\n",
    "\n",
    "Congratulations on making it this far in your Future Proof journey! It’s been a fun-filled few weeks. Now it’s time for you to put your Python skills to test by building a program of your own design. The final project is a chance to <b>🙌🏿 celebrate what you’ve learned 🎉</b> and <b>✨explore the creativity of coding.🎨</b>\n",
    "\n",
    "👥 This is a team project. Schedule time to work on the project together. Teams can be a max size of 3 people.\n",
    "\n",
    "If you cannot or do not wish to work with a teammate, you may work on the project alone. If you have trouble finding a partner, or have trouble with the project, use the #help-python channel in Discord or message an instructor.\n",
    "\n",
    "<b>💭 Get Creative</b> There are lots of different programs you could write that meet the requirements. Take a look at some example ideas and past student projects for inspiration for your project:\n",
    "\n",
    "Final project inspiration\n",
    "\n",
    "## How should you work together?\n",
    "\n",
    "You’ll should figure out what works best for your team. The best teams communicate clearly up front, so that there isn’t confusion about what is going on. Try to agree on how you’ll communicate (Discord, Whatsapp, email, or something else), and when you’ll get together to work on the project."
   ]
  },
  {
   "cell_type": "markdown",
   "id": "0de4b28d",
   "metadata": {},
   "source": [
    "# Final project inspiration\n",
    "\n",
    "There are many projects you could build to meet the requirements. Below are a few suggestions.\n",
    "\n",
    "## 1 - Quiz Game\n",
    "\n",
    "Use a list to store the questions in your code.\n",
    "\n",
    "- Display each question to the user\n",
    "- Accept the user’s answer to the question\n",
    "- Count the user’s correct answers (and optionally wrong answers)\n",
    "- At the end of the game, show the results\n",
    "\n",
    "<b>Stretch Goal: Use Remote Data</b>\n",
    "\n",
    "Instead of having the questions fixed in code, use a web-based API like Open Trivia to fetch questions and answers for the game. To use the API, select the options you want (e.g., category, difficulty, type) then click “Generate API URL.” This will give you a link like this where you can fetch questions and answers.\n",
    "\n",
    "```\n",
    "💡 You'll have to do some research to figure out how to get external data. One starting point might be the documentation for the requests library.\n",
    "```\n",
    "\n",
    "## 2 - Choose Your Own Adventure Game\n",
    "\n",
    "Design a text-based adventure game that involves writing prompts, then using conditional logic to branch to different parts of the story.\n",
    "\n",
    "- Display parts of the story to the user, and prompt them for a decision\n",
    "- Accept input from the user about their decision\n",
    "- Show the results of their decisions, and the next choice\n",
    "\n",
    "See this article for some examples of text-based adventure games, or try playing The Dreamhold, or Zork.\n",
    "\n",
    "```\n",
    "💡 A list might not be enough for storing the data you need. You might try using a dictionary - another kind of Python data structure, that stores keys and values. You can read the documentation for dictionaries to get started.\n",
    "```\n",
    "\n",
    "## 3 - Other Ideas\n",
    "\n",
    "As long as you are creative and demonstrate all of the concepts covered in the course, you can come up with your own project idea. If you do, remember to message Mohammed to get feedback before you start coding. Other ideas might be:\n",
    "\n",
    "- Use Python Turtle to draw cool graphics, or make a more visual game\n",
    "- Write a \"Mad Libs\" style program that fills in the blanks of a story based on user input\n",
    "- Design an interactive calculator program\n",
    "- Make a program that picks words from lists to generate poetry\n",
    "\n",
    "There are tons of other possibilities, so use your imagination!"
   ]
  },
  {
   "cell_type": "code",
   "execution_count": null,
   "id": "1f9b2f17",
   "metadata": {},
   "outputs": [],
   "source": [
    "# Type your code here"
   ]
  }
 ],
 "metadata": {
  "kernelspec": {
   "display_name": "Python 3 (ipykernel)",
   "language": "python",
   "name": "python3"
  },
  "language_info": {
   "codemirror_mode": {
    "name": "ipython",
    "version": 3
   },
   "file_extension": ".py",
   "mimetype": "text/x-python",
   "name": "python",
   "nbconvert_exporter": "python",
   "pygments_lexer": "ipython3",
   "version": "3.11.5"
  }
 },
 "nbformat": 4,
 "nbformat_minor": 5
}
