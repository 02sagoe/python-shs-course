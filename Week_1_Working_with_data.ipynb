{
 "cells": [
  {
   "cell_type": "markdown",
   "id": "e8e241e0-d66e-4bb2-9d4f-6638aa81d1c5",
   "metadata": {},
   "source": [
    "# Working with data\n",
    "Estimated time: 2.5 hours\n",
    "\n",
    "This is the reading material, practice challenges, and assignment for the first week.\n",
    "\n",
    "Learning Outcomes\n",
    "After this week, you will be able to:\n",
    "\n",
    "Explain what you’ll learn in this course\n",
    " + Recognize what a computer program is and what it can do\n",
    " + Get user input and display output in Python\n",
    " + Use different data types in Python\n",
    " + Use math and string operators in Python\n",
    " + Use variables in Python\n",
    " + Use and concatenate strings in Python"
   ]
  },
  {
   "cell_type": "markdown",
   "id": "dd38532f-a141-47ed-97cc-37bdf26cc1aa",
   "metadata": {},
   "source": [
    "## Program overview\n",
    "Estimated time: 10 minutes\n",
    "\n",
    "Skills\n",
    "In the next few weeks, you’ll learn to make programs that can:\n",
    "\n",
    " + Get input from the user, and show them messages\n",
    " + Work with numbers and text\n",
    " + Make decisions\n",
    " + Repeat operations over again\n",
    " + Work with lists of data\n",
    "\n",
    "Final Project Example\n",
    "At the end of the course, you’ll make a final project of your own design, using the skills you learn in the program.\n",
    "\n",
    "So that you have a picture of what kind of project you can aim for by the end of the course, here’s a Guess the Capital project by a past student."
   ]
  },
  {
   "cell_type": "markdown",
   "id": "4eab16ce-1cd5-4fce-b5f4-fa788348f93f",
   "metadata": {},
   "source": [
    "### Topics\n",
    "\n",
    "In <b>week 1</b>, you’ll learn the basics: data, variables, operators, input and output.\n",
    "\n",
    "In <b>week 2</b>, you’ll learn flow control and how to make decisions with conditions\n",
    "\n",
    "In <b>week 3</b>, you’ll learn more on flow control and how to repeat operations with loops\n",
    "\n",
    "In <b>week 4</b>, you’ll learn about storing data in lists and do more practice with loops\n",
    "\n",
    "In <b>week 5</b>, you’ll build your final project\n",
    "\n",
    "### Mindset\n",
    "\n",
    "Along the way, your mindset will change.\n",
    "\n",
    " + You’ll be less scared about computers and more confident 💪🏿\n",
    " + You’ll know how to debug and find a solution when things don’t work 🐛\n",
    " + You’ll learn how to break problems down into smaller pieces and solve them piece by piece 🧩\n",
    " + You’ll make friends and collaborate with teammates 👥"
   ]
  },
  {
   "cell_type": "markdown",
   "id": "839a9646-82b7-483a-9c5a-75cf563dc791",
   "metadata": {},
   "source": [
    "## Programs and comments\n",
    "Estimated Time: 20 minutes\n",
    "\n",
    "### Programs\n",
    "Everything on a computer is a program behind the scenes.\n",
    "\n",
    "This very moment, you are reading on a computer, with a web browser. The browser is a program, built by a large team. But, how do they actually do it? What does a program look like when they are writing it? How does it work?\n",
    "\n",
    "This is the question we'll focus on first: What are computer programs?\n",
    "\n",
    "In Intro to Programming in Python you learned...\n",
    "\n",
    "+ Programming languages let us write instructions for computers using words\n",
    "+ Programming languages get translated into 1s and 0s the machine understands\n",
    "+ Python is a beginner-friendly language that has tons of real-world use\n",
    "+ You can make basic programs in Python using <b>print, input, +, and =</b>\n",
    "\n",
    "Let’s review.\n",
    "\n",
    "#### Programs are...\n",
    "\n",
    "##### <b>Programs are text that a computer can execute as instructions.</b>\n",
    "\n",
    "\n",
    "That means you can read them and write them with the keyboard.\n",
    "\n",
    "Programs use special symbols and keywords. The symbols and the order they have to go in is called the <b>syntax</b>.\n",
    "\n",
    "If a program has valid syntax, then the computer can run it. If the program has the right logic, it will do what the programmer wanted. The syntax, grammar, and vocabulary make up a <b>Programming Language</b>.\n",
    "\n",
    "We're learning Python, so we're going to learn what words and symbols are allowed in Python, and how to structure them to make the computer do what we want.\n",
    "\n",
    "### How do you write programs?\n",
    "\n",
    "We need two things to start writing programs of our own:\n",
    "\n",
    "A <b>Text Editor</b>: A tool to write text\n",
    "\n",
    "An <b>Interpreter or a Compiler</b>: A tool to translate your code to computer-executable programs.\n",
    "In this course, we're going to use Replit, because it has both of those pieces: a text editor and an interpreter.\n",
    "\n",
    "Replit also has other helpful features that we'll use: multiplayer mode, comments, sharing, and assignments.\n",
    "\n",
    "### Code Comments\n",
    "\n",
    "##### Programs are written and read by people.\n",
    "\n",
    "That means that when writing code, we prioritize <b>both</b>. making the computer do what we want <b>and<.b>. making sure someone else can understand what the code means.\n",
    "\n",
    "We can help others make sense of our code through its structure, and with comments.\n",
    "\n",
    "### Comments\n",
    "\n",
    "In the example below, the first two lines are code comments."
   ]
  },
  {
   "cell_type": "code",
   "execution_count": null,
   "id": "9c80cf7b-5861-47a6-899f-23cb6eeb9310",
   "metadata": {},
   "outputs": [],
   "source": [
    "# Prints \"Programming\" ten times\n",
    "# string * number copies the string that many times\n",
    "message = \"Programming\"\n",
    "number_of_copies = 10\n",
    "print(message * number_of_copies)"
   ]
  },
  {
   "cell_type": "markdown",
   "id": "2304349b-98b6-4fa3-9cc1-c4c8f9e95477",
   "metadata": {},
   "source": [
    "Comments communicate with the other people that read our code. While code can sometimes make sense on its own, comments fill gaps in explanation.\n",
    "\n",
    "In Python, comments start with the # character (called ‘hash’ or ‘octothorp’). Anything after the # gets ignored by Python - it won’t try to run it as code.\n",
    "\n",
    "In Kibo, we’ll often use comments to explain code and to illustrate what code does. When you see a snippet like:"
   ]
  },
  {
   "cell_type": "code",
   "execution_count": null,
   "id": "d5308d76-1f68-4e44-aa8c-a0f3d8c70b4f",
   "metadata": {},
   "outputs": [],
   "source": [
    "# prints message lots of times\n",
    "print(message * number_of_copies)\n",
    "# => ProgrammingProgrammingProgrammingProgrammingProgrammingProgrammingProgrammingProgrammingProgramming"
   ]
  },
  {
   "cell_type": "markdown",
   "id": "a791418e-8f3a-4f56-8263-7847494ae11a",
   "metadata": {},
   "source": [
    "## Variables and assignment\n",
    "Estimated Time: 15 minutes\n",
    "\n",
    "### What you need to know about variables\n",
    "\n",
    "+ A Variable is a name you give to data, so you can use it later in the program\n",
    "+ You assign a variable with =\n",
    "+ There are lots names you can use for variables, but there are some rules\n",
    "+ Using meaningful variable names makes your program better"
   ]
  },
  {
   "cell_type": "markdown",
   "id": "0a593063-7e86-4599-ba30-df71e64ad025",
   "metadata": {},
   "source": [
    "### What are variables?\n",
    "\n",
    "+ Working with variables and data is a core part of learning programming\n",
    "+ A Variable is a named place in memory. We can use it to store data and manipulate it, using its name.\n",
    "+ An assignment statement assigns some value (on the right-hand side) to the variable name on the left-hand side. Technically this means putting this value in memory and point to it using that variable name."
   ]
  },
  {
   "cell_type": "markdown",
   "id": "8884b2f7-30ce-4c1b-b14f-b8be8150fc18",
   "metadata": {},
   "source": [
    "### Variable Names\n",
    "\n",
    "+ We cannot use reserved words variables names. Reserved words include words like if, for, return, which have specific meanings in Python\n",
    "+ Names can start with letters or underscores, and can only contain letters, numbers, and underscores. They can’t have spaces.\n",
    "+ Variable names are case-sensitive. That means shop and Shop can refer to different values."
   ]
  },
  {
   "cell_type": "markdown",
   "id": "6816646e-a09b-41b5-9cc5-604e2ec7b6b6",
   "metadata": {},
   "source": [
    "#### Good and Bad Variable Names\n",
    "\n",
    "Variable names should be descriptive and help a reader understand the code.\n",
    "\n",
    "For example, take a look at the code below:"
   ]
  },
  {
   "cell_type": "code",
   "execution_count": null,
   "id": "6f035126-c5b7-4c64-9290-cf8a7f64cf5e",
   "metadata": {},
   "outputs": [],
   "source": [
    "x1q3z9ocd = 35.0\n",
    "x1q3z9afd = 12.50\n",
    "x1q3p9afd = x1q3z9ocd * x1q3z9afd\n",
    "print(x1q3p9afd) # 437.5"
   ]
  },
  {
   "cell_type": "markdown",
   "id": "9c9267f8-2ba4-42c4-b5c3-598a5e613c47",
   "metadata": {},
   "source": [
    "The variable names above are allowed in Python, but they are <b>not helpful</b>.\n",
    "\n",
    "<b>Contrast with:</b>"
   ]
  },
  {
   "cell_type": "code",
   "execution_count": null,
   "id": "ca40f3a7-fbce-4950-822f-8d73954ebd25",
   "metadata": {},
   "outputs": [],
   "source": [
    "hours = 35.0\n",
    "pay_rate = 12.50\n",
    "pay = hours * pay_rate\n",
    "print(pay) # 437.5"
   ]
  },
  {
   "cell_type": "markdown",
   "id": "32f26af7-1b86-443d-adee-a944bd02613f",
   "metadata": {},
   "source": [
    "These variable names are descriptive and helpful!"
   ]
  },
  {
   "cell_type": "markdown",
   "id": "93d8dd35-8e88-46a6-b747-bd809136f388",
   "metadata": {},
   "source": [
    "#### Excercise:\n",
    "\n",
    "1. Create a varriable which stores the number 13 for the number of books read and return the value\n",
    "2. Create a varriable which stores the number 4 for the numbe rof meals eaten in a day and return the value"
   ]
  },
  {
   "cell_type": "code",
   "execution_count": null,
   "id": "dadc6a17-589d-4416-a4d8-be1aee410bc9",
   "metadata": {},
   "outputs": [],
   "source": [
    "# Type your solution here"
   ]
  },
  {
   "cell_type": "markdown",
   "id": "bad9fff7-1497-4bcb-be45-27e7402e8647",
   "metadata": {},
   "source": [
    "## Data types operators and expressions\n",
    "\n",
    "Estimated Time: 20 minutes\n",
    "\n",
    "### What you need to know about data types\n",
    "+ Python can store different types of data\n",
    "+ The basic types of data you’ll learn about first are:\n",
    "    + Strings\n",
    "    + Integers\n",
    "    + Floats\n",
    "    + Booleans\n",
    "+ Python can do different operations based the data type\n",
    "    + like + to add numbers together\n",
    "\n",
    "\n",
    "### Basic Data Types\n",
    "\n",
    "Your name, age, date of birth, and photo are different pieces of data. Data, and the variables that refer to them, are represented by different types.\n",
    "\n",
    "Every programming language has data types, but the built-in types are different from one programming language to another. In Python, we have more than 10 built-in data types. Here are the 3 types we need in this lesson:\n",
    "\n",
    "+ int (for integer)\n",
    "    + Represents integer numbers, like 1, 4, or 10\n",
    "+ float (a floating-point number)\n",
    "    + Represents floating-point numbers, like 1.0, 4.32, or 10.189\n",
    "    + You might know these as ‘decimal’ numbers or fractions - numbers that have a dot separating the integer part from the fractional part.\n",
    "+ str (for string)\n",
    "    + Stores text as character-based data like words, e.g., Hello World\n",
    "\n",
    "These are called <i>primitive types</i>. Python can represent more complicated data using compound types like List and Dictionary, which are made out of the primitive types. We’ll learn about some of those in later lessons.\n",
    "\n",
    "Python figures out the type automatically based on some rules:\n",
    "\n",
    "+ numbers without a decimal point are treated as <b>ints</b> (like 10)\n",
    "+ numbers with a decimal point are treated as <b>floats</b> (like 1.0)\n",
    "+ text between quote marks is treated as <b>strings</b> (like \"Hello\" or '100.5')\n",
    "\n",
    "There are more rules for other types, but we're skipping them for now."
   ]
  },
  {
   "cell_type": "markdown",
   "id": "ebb4c264-a7aa-4806-9644-8c53013b9800",
   "metadata": {},
   "source": [
    "## DEMO: Data Types\n",
    "\n",
    "+ Every value in Python has a type, for example, string, float, and integer. You can find out what type a value is by using the type() function.\n",
    "\n",
    "+ <b>Strings</b> are for representing text.\n",
    "\n",
    "    + They look like this: \"Kibo School\", starting and ending with \", the double quote.\n",
    "    + When you add them together with +, Python concatenates the strings. It sticks them together end to end, like this:"
   ]
  },
  {
   "cell_type": "code",
   "execution_count": null,
   "id": "aaf22d49-97e7-4b40-bb09-e6f451854c5a",
   "metadata": {},
   "outputs": [],
   "source": [
    "school_name = \"Kibo\"\n",
    "print(\"I love \" + school_name) # \"I love Kibo\""
   ]
  },
  {
   "cell_type": "markdown",
   "id": "f39ec100-3a96-414c-98fb-e802db43b343",
   "metadata": {},
   "source": [
    "    + They are called strings because they are a series (a ‘string’) of characters. The string \"Kibo\" is made of the characters 'K', 'i', 'b', 'o'.\n",
    "\n",
    "+ Integers are for representing positive and negative whole numbers.\n",
    "\n",
    "    + They look like numbers: 10, 9019, or -5\n",
    "\n",
    "    + Python works like a calculator. It can do math with +, -, *, / and more."
   ]
  },
  {
   "cell_type": "code",
   "execution_count": null,
   "id": "066325dc-d1d5-4f01-8f03-0b1db1d8e4ed",
   "metadata": {},
   "outputs": [],
   "source": [
    "10 + 5 # 15\n",
    "\n",
    "value = 100\n",
    "value + 10 # 110\n",
    "value - 10 # 90\n",
    "value * 10 # 1000\n",
    "value / 10 # 10"
   ]
  },
  {
   "cell_type": "markdown",
   "id": "599401a9-2219-4c0b-9531-a5e6c2f16dac",
   "metadata": {},
   "source": [
    "+ <b>Floats</b> are for representing fractional numbers\n",
    "\n",
    "    + They look like numbers with a decimal point: 10.5, 90.19, or -0.781\n",
    "    + Python stores them differently from integers, so they show something different when you call type on them\n",
    "\n",
    "+ TypeError is a common error you get when the types don’t match, like if you tried to add a string and a number."
   ]
  },
  {
   "cell_type": "code",
   "execution_count": null,
   "id": "5978a2f7-20da-4272-a6eb-a1aa4d5f3f95",
   "metadata": {},
   "outputs": [],
   "source": [
    "\"Hello\" + \"5\" # \"Hello5\"\n",
    "\"Hello\" + 5 # TypeError"
   ]
  },
  {
   "cell_type": "markdown",
   "id": "726036b9-5782-41b6-8708-c22193c9c9d7",
   "metadata": {},
   "source": [
    "There are lots more Python types that we didn’t cover. You can look them up by using Google to find the Python documentation."
   ]
  },
  {
   "cell_type": "markdown",
   "id": "16b150ab-ef7f-4359-b7a0-ba81638219c7",
   "metadata": {},
   "source": [
    "## Operators\n",
    "\n",
    "<b>Operators</b> are symbols that represent computations like addition and multiplication.\n",
    "\n",
    "+ '+' performs addition\n",
    "+ '-' performs subtraction\n",
    "+ '*' performs multiplication\n",
    "+ '/' performs division\n",
    "+ '**' performs exponentiation\n",
    "+ '%' performs remainder (or modulus) operation"
   ]
  },
  {
   "cell_type": "markdown",
   "id": "6eb6a591-c0f5-4042-ad17-c05c57140dfc",
   "metadata": {},
   "source": [
    "## What would happen?\n",
    "\n",
    "Try to guess what each snippet would print out. Then, click the arrow to see an explanation."
   ]
  },
  {
   "cell_type": "code",
   "execution_count": 1,
   "id": "8cd45407-4bfa-4ef9-9e26-2486a42a980f",
   "metadata": {},
   "outputs": [
    {
     "name": "stdout",
     "output_type": "stream",
     "text": [
      "15\n",
      "10\n",
      "100000\n",
      "2\n"
     ]
    }
   ],
   "source": [
    "print(5 + 10)\n",
    "print(4 + 3 * 2)\n",
    "print(10 ** 5)\n",
    "print(12 % 10)"
   ]
  },
  {
   "cell_type": "markdown",
   "id": "cb9c70a0-d1c6-416d-95a5-7e4b6f45aa00",
   "metadata": {},
   "source": [
    "## Expressions\n",
    "\n",
    "An expression is a sequence of operands and operators, like 15+5, that gets evaluated to a certain result.\n",
    "\n",
    "Python doesn’t do everything all at once. It runs a program line by line, in order. Within a line, Python has an evaluation order that decides what comes first.\n",
    "\n",
    "In the below code, the right hand side is evaluated before assignment."
   ]
  },
  {
   "cell_type": "code",
   "execution_count": null,
   "id": "431dbcb5-1f98-435b-9b8e-e23a71d8fad3",
   "metadata": {},
   "outputs": [],
   "source": [
    "age = 15 + 5\n",
    "print(age) # 20"
   ]
  },
  {
   "cell_type": "code",
   "execution_count": null,
   "id": "524d7ae7-0499-40fb-930a-34c581c0ae60",
   "metadata": {},
   "outputs": [],
   "source": [
    "The 15 + 5 part of the line is called an “expression”. It’s a part of a line in Python.\n",
    "\n",
    "Expressions get evaluated before assignment. So in the above code, 15 + 5 is evaluated to 20, and then the value 20 is assigned to the variable age.\n",
    "\n",
    "Expressions also get evaluated before they get printed out in print():"
   ]
  },
  {
   "cell_type": "code",
   "execution_count": null,
   "id": "7f3c481c-1e9d-4426-9a31-828608da0692",
   "metadata": {},
   "outputs": [],
   "source": [
    "print(10 / 2) # 5"
   ]
  },
  {
   "cell_type": "markdown",
   "id": "a58d492c-3478-4497-9381-3b610e4b7b5d",
   "metadata": {},
   "source": [
    "Python does the 10 / 2 first, then the print()"
   ]
  },
  {
   "cell_type": "markdown",
   "id": "189ca669-7f3b-4adc-8558-824c5907c8d4",
   "metadata": {},
   "source": [
    "### Math operators and evaluation order\n",
    "Python uses the same order of operations that arithmetic traditionally uses.\n",
    "\n",
    "5 + 4 * 3 # 17 (not 27)\n",
    "6 * 2 ** 2 # 24 (not 144)\n",
    "This is the order for the math operators:\n",
    "\n",
    "+ Parenthesis\n",
    "+ Exponentiation (raising to the power)\n",
    "+ Multiplication/division/remainder\n",
    "+ Addition/subtraction\n",
    "+ Left to right to break any ties"
   ]
  },
  {
   "cell_type": "markdown",
   "id": "a7df62cb-56e0-4bd2-a393-7f7f62fd3e7d",
   "metadata": {},
   "source": [
    "You can use parentheses for grouping. They can change the order, or make it more obvious:"
   ]
  },
  {
   "cell_type": "markdown",
   "id": "0e68a777-cbf4-42e3-a6bf-ee138fd4c975",
   "metadata": {},
   "source": [
    "5 + (4 * 3) # 17\n",
    "(5 + 4) * 3 # 27\n",
    "6 * (2 ** 2) # 24\n",
    "(6 * 2) ** 2 # 144"
   ]
  },
  {
   "cell_type": "code",
   "execution_count": null,
   "id": "b38f8ca4-4ca0-4bba-844d-3513a4970dce",
   "metadata": {},
   "outputs": [],
   "source": [
    "Parentheses are also used for calling functions like str() or print(), but it’s usually not that confusing to tell which is which.\n",
    "\n",
    "Every opening paren needs a closing paren. You can’t do just (5 + 7, it needs to be (5 + 7)."
   ]
  },
  {
   "cell_type": "markdown",
   "id": "f13fdf19-6c1b-44d0-add2-ba5a99961bc2",
   "metadata": {},
   "source": [
    "Excercise:\n",
    "\n",
    "Set the values to these variables\n",
    "a = 15\n",
    "b = 7\n",
    "\n",
    "Print the difference (-) of a and b\n",
    "Print the product (*) of a and b\n",
    "Print the quotient (/) of a and b\n",
    "Print the remainder (%) of a and b"
   ]
  },
  {
   "cell_type": "code",
   "execution_count": null,
   "id": "cb3e4b8c-e59f-451c-a09a-b276e8df321a",
   "metadata": {},
   "outputs": [],
   "source": [
    "# Example\n",
    "# sum of a and b\n",
    "print(a + b)"
   ]
  },
  {
   "cell_type": "code",
   "execution_count": null,
   "id": "88d1397b-1196-4589-8077-b2a34f4f6fec",
   "metadata": {},
   "outputs": [],
   "source": [
    "# Type your solution here"
   ]
  },
  {
   "cell_type": "markdown",
   "id": "6a99647c-eb5a-4295-b26a-9401269a7479",
   "metadata": {},
   "source": [
    "### TypeError and Type Conversion\n",
    "\n",
    "If you try to add a number to a string, Python will raise a TypeError. It doesn’t know what you want to do. Do you want to concatenate the two, as if they are both strings? Or, add them together mathematically, as if they are numbers? <b>Python refuses to guess.</b>"
   ]
  },
  {
   "cell_type": "code",
   "execution_count": null,
   "id": "0aa11ab7-d42e-4bb3-8403-3c59591ba6ba",
   "metadata": {},
   "outputs": [],
   "source": [
    "age = \"15\" # a string\n",
    "age + 5 # TypeError, tried to add a string and an int"
   ]
  },
  {
   "cell_type": "markdown",
   "id": "fd3230f7-2bc4-46de-80c7-e15a9cbc3cce",
   "metadata": {},
   "source": [
    "To solve this error, you can convert between data types.\n",
    "\n",
    "- Turn a string into an <b>int</b> with the function int().\n",
    "- Turn an integer into a <b>str</b> with the function str()"
   ]
  },
  {
   "cell_type": "code",
   "execution_count": null,
   "id": "16757d1c-c059-41ce-acbb-582db49a2405",
   "metadata": {},
   "outputs": [],
   "source": [
    "age = \"15\" # a string\n",
    "int(age) + 5 # 15\n",
    "age + str(5) # \"155\""
   ]
  },
  {
   "cell_type": "markdown",
   "id": "e9981871-c355-4342-9c33-532f4cdda1e0",
   "metadata": {},
   "source": [
    "# Input and output\n",
    "\n",
    "Estimated Time: 30 minutes\n",
    "\n",
    "### Key ideas\n",
    " - Show output with print()\n",
    " - Get data from the user with input()\n",
    "\n",
    "## Printing Output\n",
    "\n",
    "Websites and apps you have used in the past have a whole screen full of text and buttons. Eventually, you’ll learn to build those kinds of programs, but we’re starting with the basics: programs that work with text.\n",
    "\n",
    "print shows some output to the Console:"
   ]
  },
  {
   "cell_type": "code",
   "execution_count": null,
   "id": "f0b88c32-c231-4d61-b76b-3892e7302844",
   "metadata": {},
   "outputs": [],
   "source": [
    "print(\"Hello, world\")"
   ]
  },
  {
   "cell_type": "markdown",
   "id": "05a5359d-3790-462e-8155-407cb5686d3a",
   "metadata": {},
   "source": [
    "You’ve written code like this from your first “Hello, World” program. When you run it, the output shows up.\n",
    "\n",
    "In Replit, output shows in the ‘Console’ tab. On early computers, there was only a text console. On the earliest computers, there wasn’t a screen at all. Instead, the output was printed out on paper. The output now shows up in the Console in our web browser, but we still call the function print."
   ]
  },
  {
   "cell_type": "code",
   "execution_count": null,
   "id": "fca02ffa-6488-441b-b654-ec939b00ddf2",
   "metadata": {},
   "outputs": [],
   "source": [
    "print(\"We can print any string we want\")\n",
    "x = (\"If the string is in a variable, we can print the variable\")\n",
    "print(x) # If the string is in a variable, we can print the variable"
   ]
  },
  {
   "cell_type": "markdown",
   "id": "85865b5b-9f01-448f-b3d7-31662ee6f171",
   "metadata": {},
   "source": [
    "## Getting Input from the User\n",
    "\n",
    "You've already used the input() function in earlier challenges to get the name from the user.\n",
    "\n",
    "When Python sees input:\n",
    "\n",
    " - It prints out the arguments to input, similar to print.\n",
    " - It pauses to wait for the user to type something in\n",
    " - It waits for the user to press Enter\n",
    " - When the user presses Enter, input gives the program the text that the user typed in\n",
    "\n",
    "We can design lots of text-based interactions using input. A calculator, a search engine, a quiz, a chatbot - all of these and more can be designed to use text input and output.\n",
    "\n",
    "### Converting Inputs\n",
    "\n",
    "The input() function returns a string. If you want a number, need to convert the data type using int or float."
   ]
  },
  {
   "cell_type": "code",
   "execution_count": null,
   "id": "061f5b5e-03f8-42ff-907f-1e68dd110899",
   "metadata": {},
   "outputs": [],
   "source": [
    "response = input(\"How old are you?\")\n",
    "age = int(response)"
   ]
  },
  {
   "cell_type": "markdown",
   "id": "c5b040a2-0da8-4f74-b82a-22a19c919cdf",
   "metadata": {},
   "source": [
    "It’s common to see the input and the conversion all at once, like this:"
   ]
  },
  {
   "cell_type": "code",
   "execution_count": null,
   "id": "be1d34a9-264c-4096-9276-c604bc819ff3",
   "metadata": {},
   "outputs": [],
   "source": [
    "age = int(input(\"How old are you?\"))"
   ]
  },
  {
   "cell_type": "markdown",
   "id": "c3c24db4-97c5-4a92-bd31-9fa6e97f3b43",
   "metadata": {},
   "source": [
    "Converting to a float is similar:"
   ]
  },
  {
   "cell_type": "code",
   "execution_count": null,
   "id": "b58f8aec-d023-45da-8746-574842e33715",
   "metadata": {},
   "outputs": [],
   "source": [
    "soda_price = float(input(\"How much does a soda cost?\"))"
   ]
  },
  {
   "cell_type": "markdown",
   "id": "03498907-7778-4463-94a7-0ef942b1e1c0",
   "metadata": {},
   "source": [
    "What does python do if you try to convert a string like \"3.5\" to an integer using int?"
   ]
  },
  {
   "cell_type": "markdown",
   "id": "a06ebde6-a51f-475b-a316-453aa4e5c98b",
   "metadata": {},
   "source": [
    "<b>Excercise:</b>\n",
    "\n",
    "Take an input that asks => \"How many hours do you sleep each night?\"\n",
    "\n",
    "The console should respond with the statment \"Doctors recommend 8 hours of sleep every night and you sleep ______ hours most nights.\""
   ]
  },
  {
   "cell_type": "code",
   "execution_count": null,
   "id": "9a131818-c2c0-4e2a-9735-86fbca8d37a5",
   "metadata": {},
   "outputs": [],
   "source": [
    "print()\n",
    "print\n",
    "print(\"Hello\", \"world\")"
   ]
  },
  {
   "cell_type": "markdown",
   "id": "8f232d12-5dca-46aa-b471-1fa715634dee",
   "metadata": {},
   "source": [
    "What happens when there’s nothing between the parentheses? Or if you leave off the parentheses? Or if you put more than one thing between the parentheses?\n",
    "\n",
    "Sometimes, the best way to find things out about how Python works is to try it out."
   ]
  },
  {
   "cell_type": "markdown",
   "id": "5d85d1ab-cd43-459a-868f-4de0a5863e99",
   "metadata": {},
   "source": [
    "Experiment with print to find out what it does in different situations"
   ]
  },
  {
   "cell_type": "markdown",
   "id": "4d1d6995-ce26-4210-b0c3-243ef8ed1653",
   "metadata": {},
   "source": [
    "## Print with multiple arguments\n",
    "\n",
    "The print() function can take more than one argument. It can have more than one thing inside the parentheses (...)\n",
    "\n",
    "However, you must separate arguments by commas."
   ]
  },
  {
   "cell_type": "code",
   "execution_count": null,
   "id": "a6e0cddb-9ee4-475a-81f2-6c894384c5ff",
   "metadata": {},
   "outputs": [],
   "source": [
    "name = \"Emmy\"\n",
    "print(\"Hello\" name) # SyntaxError: invalid syntax (because there's no comma)\n",
    "print(\"Hello\", name) # Hello Emmy"
   ]
  },
  {
   "cell_type": "markdown",
   "id": "ab145c29-c401-4668-8625-047b64373512",
   "metadata": {},
   "source": [
    " Function Arguments\n",
    "\n",
    "print and input are functions. (We haven’t covered functions yet, but we can use them without fully understanding them.)\n",
    "\n",
    "The name of “the things between the parentheses” is arguments.\n",
    "\n",
    "Function arguments let the same function do something different each time you use it. print always sends something to the Console, but what it sends depends on the arguments in the parentheses."
   ]
  },
  {
   "cell_type": "markdown",
   "id": "4a522719-57ae-484b-b34f-e05191bdda5a",
   "metadata": {},
   "source": [
    "Let's take a look at a Python program that gives instructions to add two numbers:\n",
    "\n",
    "Here's the code for the exercise:"
   ]
  },
  {
   "cell_type": "code",
   "execution_count": null,
   "id": "27f715e3-4850-4535-b488-645814c7254f",
   "metadata": {},
   "outputs": [],
   "source": [
    "first_num = int(input(\"enter first number: \"))\n",
    "second_num = int(input(\"enter second number: \"))\n",
    "\n",
    "total = first_num + second_num\n",
    "print(\"the sum is: \", total)"
   ]
  },
  {
   "cell_type": "markdown",
   "id": "8e755fcb-6f4e-475d-aa07-62219a327ca8",
   "metadata": {},
   "source": [
    "In plain English, here is what the code does:\n",
    "\n",
    "<b>line 1</b>: Ask the user for an input. Convert the input to an integer, and store it in a variable named first_num\n",
    "<b>line 2</b>: Ask the user for another input. Convert the input to an integer, and store it in a variable named second_num\n",
    "<b>line 4</b>: Add first_num and second_num and put the result in a third variable named total\n",
    "<b>line 6</b>: Print out the string \"the sum is\" and the value of the variable named total\n",
    "\n",
    "\n",
    "🧑🏿‍🔬 Explore some more! Try more inputs to the program. What happens if you enter something that's not a number? What happens if you press enter without typing a number? What happens if you never enter anything?"
   ]
  },
  {
   "cell_type": "markdown",
   "id": "e6c64734-30cd-4b48-b30c-8fa8edd575a1",
   "metadata": {},
   "source": [
    "## Practice: Add three numbers"
   ]
  },
  {
   "cell_type": "markdown",
   "id": "e0a74191",
   "metadata": {},
   "source": [
    "👩🏿‍💻 Update the code below to add three numbers and print the total. Modify the code below by following the directions in the Instructions tab. **"
   ]
  },
  {
   "cell_type": "code",
   "execution_count": null,
   "id": "0312d65f-ebda-4257-bfcc-da25a294cb4e",
   "metadata": {},
   "outputs": [],
   "source": [
    "# Type your code here"
   ]
  },
  {
   "cell_type": "markdown",
   "id": "c30047da",
   "metadata": {},
   "source": [
    "# String concatenation and f strings\n",
    "\n",
    "Estimated Time: 30 minutes\n",
    "\n",
    "### Key ideas\n",
    "\n",
    "- Using formatted strings\n",
    "- Concatenating strings\n",
    "\n",
    "## String Concatenation and f-strings\n",
    "\n",
    "When there’s a variable we want to combine with a string to print out a message, so far we’ve added the strings with +."
   ]
  },
  {
   "cell_type": "code",
   "execution_count": null,
   "id": "08d55c98",
   "metadata": {},
   "outputs": [],
   "source": [
    "name = \"Mercy\"\n",
    "print(\"Hello, \" + name) # Hello, Mercy"
   ]
  },
  {
   "cell_type": "markdown",
   "id": "c288fec3",
   "metadata": {},
   "source": [
    "When the message is longer, this becomes more confusing and harder to type."
   ]
  },
  {
   "cell_type": "code",
   "execution_count": null,
   "id": "acc82097",
   "metadata": {},
   "outputs": [],
   "source": [
    "name = \"Mercy\"\n",
    "print(\"The alarm went off at exactly 6:00 AM as it had every morning for the past five years. \" + name + \" began her morning and was ready to eat breakfast by 7:00 AM. The day appeared to be as normal as any other, and \" + name + \" was not expecting anything to change.\")"
   ]
  },
  {
   "cell_type": "markdown",
   "id": "08981b14",
   "metadata": {},
   "source": [
    "There’s another way to format long text that uses variables, called f-strings."
   ]
  },
  {
   "cell_type": "code",
   "execution_count": null,
   "id": "42f8ec82",
   "metadata": {},
   "outputs": [],
   "source": [
    "name = \"Mercy\"\n",
    "print(f\"Hello, {name}\") # Hello, Mercy\n",
    "print(f\"The alarm went off at exactly 6:00 AM as it had every morning for the past five years. {name} began her morning and was ready to eat breakfast by 7:00 AM. The day appeared to be as normal as any other, and {name} was not expecting anything to change.\")"
   ]
  },
  {
   "cell_type": "markdown",
   "id": "6d6714ed",
   "metadata": {},
   "source": [
    "Instead of using + to combine the variable and the string, we start the string with f and we use {} to insert the variable right inside the string. That way, there’s less confusion about quote marks and spaces.\n",
    "\n",
    "### Other f-string uses\n",
    "We can also use f-strings for rounding."
   ]
  },
  {
   "cell_type": "code",
   "execution_count": null,
   "id": "a8852311",
   "metadata": {},
   "outputs": [],
   "source": [
    "one_third = 1/3\n",
    "print(one_third)# 0.3333333333333333\n",
    "print(f\"{one_third:.2}\") # 0.33"
   ]
  },
  {
   "cell_type": "markdown",
   "id": "5346fa27",
   "metadata": {},
   "source": [
    "f-strings have other formatting powers, but we’ll leave it at rounding floats for now.\n",
    "\n",
    "# Practice: f-strings\n",
    "\n",
    "Edit the code below and add text that shows you the restul of the calculation"
   ]
  },
  {
   "cell_type": "code",
   "execution_count": null,
   "id": "01f8fe8d",
   "metadata": {},
   "outputs": [],
   "source": [
    "first_num = float(input(\"enter first number: \"))\n",
    "second_num = float(input(\"enter second number: \"))\n",
    "\n",
    "# change the line below\n",
    "result = first_num / second_numfirst_num = float(input(\"enter first number: \"))\n",
    "second_num = float(input(\"enter second number: \"))\n",
    "\n",
    "# change the line below\n",
    "result = first_num / second_num"
   ]
  },
  {
   "cell_type": "markdown",
   "id": "7d6388ba",
   "metadata": {},
   "source": [
    "# Practice\n",
    "Estimated Time: 30 minutes\n",
    "\n",
    "💡 This is your chance to put what you’ve learned into action. Try solving these practice challenges to check that you understand the concepts.\n",
    "\n",
    "The <b>solutions</b> to each challenge are available in Replit, and you can view a video of the solution below each challenge. Try to go through the whole challenge without using the solution.\n",
    "\n",
    "<i>If you can’t do the challenge without looking the solution, it means you don’t understand the material well enough yet.<i/>\n",
    "\n",
    "<i>Try the next practice challenges without looking at the solution. If you need more practice challenges, reach out on Discord.<i/>\n",
    "\n",
    "<b>If you get stuck</b>\n",
    "\n",
    "Read the instructions again.\n",
    "Remember Go Climb Kibo - first Google, then ask the Community on Discord, then reach out to Kibo instructional team.\n",
    "You can click ‘Submit’ in Replit to view a solution. Don’t forget to try the solution out in your own code, and submit the project again."
   ]
  },
  {
   "cell_type": "markdown",
   "id": "882e0d40",
   "metadata": {},
   "source": [
    "## 1. Currency Conversion\n",
    "\n",
    "🏦 Create a program that asks a user for a value in US Dollars, then converts to Nigerian Naira"
   ]
  },
  {
   "cell_type": "code",
   "execution_count": null,
   "id": "0fec920c",
   "metadata": {},
   "outputs": [],
   "source": [
    "# Type your code here"
   ]
  },
  {
   "cell_type": "markdown",
   "id": "b6f2495d",
   "metadata": {},
   "source": [
    "## 2. AC Load Estimator\n",
    "\n",
    "👩🏿‍💻 Write a program to build an AC unit load estimator. Your program should get input from the user, use the formula to calculate the horsepower, then print the horsepower."
   ]
  },
  {
   "cell_type": "code",
   "execution_count": null,
   "id": "04623624",
   "metadata": {},
   "outputs": [],
   "source": [
    "# Type your code here"
   ]
  },
  {
   "cell_type": "markdown",
   "id": "64776626",
   "metadata": {},
   "source": [
    "## 3. Body Mass Index\n",
    "\n",
    "💪🏿 Create a program that calculates body mass index, which is used to determine if a person's weight is a healthy proportion for their height."
   ]
  },
  {
   "cell_type": "code",
   "execution_count": null,
   "id": "fc1a389d",
   "metadata": {},
   "outputs": [],
   "source": [
    "# Type your code here"
   ]
  },
  {
   "cell_type": "markdown",
   "id": "6e781008",
   "metadata": {},
   "source": [
    "# Project\n",
    "\n",
    "Estimated Time: 1 hour\n",
    "\n",
    "## Team Project: Mad Libs\n",
    "<b>Due date: Sunday July 17</b>"
   ]
  },
  {
   "cell_type": "code",
   "execution_count": null,
   "id": "e44efb92",
   "metadata": {},
   "outputs": [],
   "source": [
    "# Type your code here"
   ]
  }
 ],
 "metadata": {
  "kernelspec": {
   "display_name": "Python 3 (ipykernel)",
   "language": "python",
   "name": "python3"
  },
  "language_info": {
   "codemirror_mode": {
    "name": "ipython",
    "version": 3
   },
   "file_extension": ".py",
   "mimetype": "text/x-python",
   "name": "python",
   "nbconvert_exporter": "python",
   "pygments_lexer": "ipython3",
   "version": "3.11.5"
  }
 },
 "nbformat": 4,
 "nbformat_minor": 5
}
