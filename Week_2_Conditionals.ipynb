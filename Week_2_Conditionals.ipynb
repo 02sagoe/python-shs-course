{
 "cells": [
  {
   "cell_type": "markdown",
   "id": "4dd2761e",
   "metadata": {},
   "source": [
    "# Conditionals\n",
    "\n",
    "Intro\n",
    "So far, the Python programs you’ve written have all run step by step, from top to bottom, executing each line exactly once. This week, and the next week, you’ll learn to write programs where the flow of control is more complex.\n",
    "\n",
    "Programs can execute code based on some conditions, skip certain lines of code, or run code more than once. In these lessons, you’ll learn the Python tools to control the flow of the program.\n",
    "\n",
    "Conditional statements will give you the power to write code that makes decisions. Loops will let you write code that goes back and repeats again.\n",
    "\n",
    "Learning Outcomes\n",
    "After this week, you will be able to:\n",
    "\n",
    "- Use comparison operators to check whether values are greater, less than, or equal\n",
    "- Use conditional statements to run different code in different situations\n",
    "\n",
    "\n",
    "# Simple decisions\n",
    "\n",
    "Estimated Time: 10 minutes\n",
    "\n",
    "snakes standing awkwardly at a birthday party\n",
    "\n",
    "Life is full of decisions.\n",
    "\n",
    "- Do I stay at the party, or is it too awkward?\n",
    "- Is the price too high?\n",
    "- Should I study more for the exam?\n",
    "\n",
    "Programs also need to make decisions. Depending on the circumstances, programs should behave differently.\n",
    "\n",
    "In this lesson, you’ll learn how to write programs that can make simple decisions using if statements. if (and related keywords else and elif) will let you write code that can handle different situations appropriately.\n",
    "\n",
    "(image)\n",
    "\n",
    "In the example above, you are going to stay at the party if you do not feel awkward. You can write that decision in a general if statement:"
   ]
  },
  {
   "cell_type": "code",
   "execution_count": null,
   "id": "b483d52b",
   "metadata": {},
   "outputs": [],
   "source": [
    "# Do not run this code. It will not work\n",
    "if I don't feel awkward:\n",
    "  stay at the party"
   ]
  },
  {
   "cell_type": "markdown",
   "id": "ec73a076",
   "metadata": {},
   "source": [
    "This example isn’t quite something Python could execute, but it’s surprisingly close!\n",
    "\n",
    "### If statement\n",
    "\n",
    "The if statement is the simplest tool for controlling the flow of the program in Python."
   ]
  },
  {
   "cell_type": "code",
   "execution_count": null,
   "id": "8caba94a",
   "metadata": {},
   "outputs": [],
   "source": [
    "if x > 0 :\n",
    "    print('x is positive')"
   ]
  },
  {
   "cell_type": "markdown",
   "id": "8e6423e5",
   "metadata": {},
   "source": [
    "Up until now, Python has run every line of code in our programs, in order. With the if statement, that’s no longer the case. The print here only runs if x really is more than 0. Otherwise, the print will never run at all.\n",
    "\n",
    "A one-branch if statement is the simplest <b>conditional statement</b>. Below is a flow control diagram for the code snippet.\n",
    "\n",
    "(image)\n",
    "\n",
    "The <b>boolean expression</b> after if, in this case x > 0, is called the <b>condition</b>. If it is true, then the indented statement gets executed. <b>If not, nothing happens</b>.\n",
    "\n",
    "In the rest of this lesson, you’ll learn more about:\n",
    "\n",
    "- <b>boolean values</b> and <b>boolean expressions</b>\n",
    "- <b>conditional statements</b>.\n",
    "- if, elif, and else keywords"
   ]
  },
  {
   "cell_type": "markdown",
   "id": "7b45bbe8",
   "metadata": {},
   "source": [
    "# Boolean Expressions\n",
    "\n",
    "Estimated Time: 20 minutes\n",
    "\n",
    "a tired snake rests on the pages of a book on a desk\n",
    "\n",
    "Boolean is another Python data type. The only two Boolean possible values are True and False. These values are useful for writing code that makes decisions, like deciding whether or not to stay at the party.\n",
    "\n",
    "## Boolean Expressions\n",
    "\n",
    "📗 A boolean expression is an expression that evaluates to either True or False.\n",
    "\n",
    "The simplest boolean expressions are the keywords True and False. Just like we can do arithmetic with numbers, we can also build more complicated statements that turn into True or False.\n",
    "\n",
    "One kind of operation that results in boolean values is <b>comparisons</b>\n",
    "    \n",
    "## Comparisons\n",
    "\n",
    "You can compare values in Python using comparison operators. These operators produce True or False based on the values on either side."
   ]
  },
  {
   "cell_type": "code",
   "execution_count": null,
   "id": "7762bd61",
   "metadata": {},
   "outputs": [],
   "source": [
    "# '<' is the 'less than' operator\n",
    "5 < 10 # True\n",
    "15 < 10 # False"
   ]
  },
  {
   "cell_type": "markdown",
   "id": "b5b53c05",
   "metadata": {},
   "source": [
    "Here are the other comparison operators:\n",
    "\n",
    "\"==\" means Equal to\n",
    "\n",
    "\"<\" means Less than\n",
    "\n",
    "\"<=\" means Less than or Equal to\n",
    "\n",
    "\">=\" means Greater than or Equal to\n",
    "\n",
    "\">\" means Greater than\n",
    "\n",
    "\"!=\" means Not Equal to\n",
    "\n",
    "Here’s some examples:"
   ]
  },
  {
   "cell_type": "code",
   "execution_count": null,
   "id": "cfd3d7d5",
   "metadata": {},
   "outputs": [],
   "source": [
    "x = 10  # Set x to 10. Note that the usage of \"=\" is not a boolean expression.\n",
    "\n",
    "x == 10 # True (check if x equals 10)\n",
    "x == 6  # False\n",
    "x < 8   # False\n",
    "x > 8   # True\n",
    "x > 10  # False\n",
    "x >= 10 # True\n",
    "x <= 90 # True"
   ]
  },
  {
   "cell_type": "markdown",
   "id": "bee883db",
   "metadata": {},
   "source": [
    "Comparisons work on strings too:"
   ]
  },
  {
   "cell_type": "code",
   "execution_count": null,
   "id": "898473f4",
   "metadata": {},
   "outputs": [],
   "source": [
    "y = \"Hello\"    # set y to \"Hello\"\n",
    "\n",
    "y == \"Goodbye\" # False\n",
    "y == \"Hello\"   # True\n",
    "y == \"hello\"   # False (!!! equality is case-sensitive)\n",
    "y != \"Goodbye\" # True\n",
    "y != \"Hello\"   # False\n",
    "y == 5         # False\n",
    "y > 5          # TypeError"
   ]
  },
  {
   "cell_type": "markdown",
   "id": "c0ecdc3c",
   "metadata": {},
   "source": [
    "📌 If you write these lines in main.py in Replit and press Run, you won’t see any output. Remember, the output in the Console tab comes from print. If you want to see the results in the console, add print. For example, write print(10>7)\n",
    "\n",
    "Alternatively, you can enter these examples line-by-line in the Console itself. The Console runs lines of Python, so you can test out small snippets of code like these. Try it out!"
   ]
  },
  {
   "cell_type": "markdown",
   "id": "f4fc2466",
   "metadata": {},
   "source": [
    "# If/Else\n",
    "\n",
    "Estimated Time: 30 minutes\n",
    "\n",
    "## Conditional statements\n",
    "\n",
    "A conditional statement runs code based on a specific condition.\n",
    "\n",
    "In Python, the syntax uses the keyword if, a condition followed by a colon :, and then an indented block of code to run.\n",
    "\n"
   ]
  },
  {
   "cell_type": "code",
   "execution_count": null,
   "id": "22ed44ea",
   "metadata": {},
   "outputs": [],
   "source": [
    "if response == \"yes\":\n",
    "    print(\"Proceeding...\") "
   ]
  },
  {
   "cell_type": "markdown",
   "id": "e69ef195",
   "metadata": {},
   "source": [
    "The print only runs if the value of the variable response is equal to \"yes\"\n",
    "\n",
    "In this example, the <b>condition</b> is response == \"yes\" and the code block is print(\"Proceeding...\").\n",
    "\n",
    "The code block <b>ends when you stop indenting.</b>\n",
    "\n",
    "In the following example, \"Goodbye\" is always printed, no matter what the response is. It’s outside of the code block, because it’s no longer indented."
   ]
  },
  {
   "cell_type": "code",
   "execution_count": null,
   "id": "7fd878db",
   "metadata": {},
   "outputs": [],
   "source": [
    "response = input(\"Type 'yes' to proceed\")\n",
    "if response == \"yes\":\n",
    "    print(\"Proceeding...\") # only runs if response is equal to \"yes\"\n",
    "print(\"Goodbye\")         # runs no matter what"
   ]
  },
  {
   "cell_type": "markdown",
   "id": "2b84a886",
   "metadata": {},
   "source": [
    "## Practice\n",
    "\n",
    "👩🏿‍💻 Write a program that asks the user if the party that they are attending is awkward. If they answer \"yes\", print \"Leave!\""
   ]
  },
  {
   "cell_type": "code",
   "execution_count": null,
   "id": "da1472cb",
   "metadata": {},
   "outputs": [],
   "source": [
    "# Type your code here "
   ]
  },
  {
   "cell_type": "markdown",
   "id": "129f1542",
   "metadata": {},
   "source": [
    "# If-Else\n",
    "\n",
    "Sometimes we want to do one thing if a boolean expression is true, and something else if it is false. In those cases, we can write an if-else statement.\n",
    "\n",
    "↔️ The else keyword executes a block of code if the if statement condition is <b>not</b> true.\n",
    "\n",
    "Take a look at the example below. It prints a different message based on whether x is even or odd."
   ]
  },
  {
   "cell_type": "code",
   "execution_count": null,
   "id": "401347e5",
   "metadata": {},
   "outputs": [],
   "source": [
    "if x % 2 == 0:\n",
    "    print('x is even')\n",
    "else:\n",
    "    print('x is odd')"
   ]
  },
  {
   "cell_type": "markdown",
   "id": "f3b8e676",
   "metadata": {},
   "source": [
    "We want to check if a given number x is even or odd. The % operator is called ‘modulo’ and it returns the remainder after division. If the remainder is 0 when x is divided by 2, then x is even. The flow control diagram looks like this:\n",
    "\n",
    "<>p3<>\n",
    "\n",
    "The boolean expression x % 2 == 0 checks to see if the remainder of x divided by 2 is equal to 0. If this is true, then the first indented statement (called a branch) gets executed and the program prints \"x is even\". If the boolean expression is false, then the branch after theelse gets executed instead and the program prints \"x is odd\".\n",
    "\n",
    "When writing conditional statements, <b>you must pay attention to indentation.</b> You must indent after an if statement, maintain the indent as long as you want to be in the if block, then reduce the indent when done with the if block. Also, <b>don't forget to add the</b> \"<b>:</b>\" after the condition, and another \"<b>:</b>\" after the else if you have one."
   ]
  },
  {
   "cell_type": "markdown",
   "id": "d28a6ae4",
   "metadata": {},
   "source": [
    "## Practice\n",
    "\n",
    "👩🏿‍💻 Modify the code above to match the flow chart(p4) using an else block. If the user does not answer \"yes\" to the first question, encourage them to stay."
   ]
  },
  {
   "cell_type": "code",
   "execution_count": null,
   "id": "503d93b1",
   "metadata": {},
   "outputs": [],
   "source": [
    "# Type your code here"
   ]
  },
  {
   "cell_type": "markdown",
   "id": "fe298cf1",
   "metadata": {},
   "source": [
    "# Multi way decisions\n",
    "\n",
    "Estimated Time: 10 minutes\n",
    "\n",
    "In this section, we will explore writing conditional statements when there are more than two possible outcomes.\n",
    "\n",
    "First, we'll learn the <b>elif</b> keyword. It lets you add another conditional statement to the regular if/else statement, so that you can write code for situations that look like this:\n",
    "\n",
    "Next, we'll focus on combining conditional expressions with and, or, and not. These logical operators let you express more complicated conditions that you might use in the real world, like \"age is greater than 18, or a parent has signed the permission slip\".\n",
    "\n",
    "Finally, we'll talk about nested conditions. Lots of situations have complicated flow charts, where you take some action and then check another condition as part of that action.\n",
    "\n",
    "Nested if statements can express almost any flowchart, but the syntax sometimes trips people up!"
   ]
  },
  {
   "cell_type": "markdown",
   "id": "2b8ea33f",
   "metadata": {},
   "source": [
    "# Elif\n",
    "\n",
    "Estimated Time: 15 minutes\n",
    "\n",
    "Snakes around a birthday cake\n",
    "\n",
    "If-elif statements\n",
    "if and else let us express conditions with two possible outcomes. But what if there are more than two possibilities we want to express in our program? elif stands for \"else if\". It lets us check more conditions, so we can cover as many conditions as we want.\n",
    "\n",
    "Below is the flow control diagram for a multi-branch program:"
   ]
  },
  {
   "cell_type": "code",
   "execution_count": null,
   "id": "f8b8bc66",
   "metadata": {},
   "outputs": [],
   "source": [
    "if x < y:\n",
    "    print('x is less than y')\n",
    "elif x > y:\n",
    "    print('x is greater than y')\n",
    "else:\n",
    "    print('x and y are equal')"
   ]
  },
  {
   "cell_type": "markdown",
   "id": "56aacb8b",
   "metadata": {},
   "source": [
    "Here is the corresponding Python code:\n",
    "\n",
    "The code runs line by line. So, the conditions are checked in the order the code is written. The code does not look ahead. So, in the example above, assuming x = 3 and y = 3, the code will do 2 comparisons:\n",
    "\n",
    "- Check if x is less than y. Since x = 3 and y = 3 this statement is false, and it keeps going\n",
    "- Check if x is greater than y. Since x = 3 and y = 3, this statement is false\n",
    "- Execute the else statement and print 'x and y are equal'\n",
    "\n",
    "But with x = 4 and y = 6, the code will run the first comparison, print 'x is less than y' and finish. It will never even run the second check!\n",
    "\n",
    "There is no limit on the number of elif statements that can be added, but the code will evaluate them from top to bottom. Having an else statement is optional, but if you have one, it has to be at the end."
   ]
  },
  {
   "cell_type": "markdown",
   "id": "fee58a6e",
   "metadata": {},
   "source": [
    "# Practice\n",
    "\n",
    "👩🏿‍💻 Let's get back to the party. Modify the code to account for whether or not there is free food."
   ]
  },
  {
   "cell_type": "markdown",
   "id": "7535d44b",
   "metadata": {},
   "source": [
    "# And, Or, Not\n",
    "\n",
    "Estimated Time: 15 minutes\n",
    "\n",
    "In Python, you can combine conditions using the <i>logical operators</i> and, or, and not. They let you express more complex conditions, like \"even numbers greater than 100\" or \"the password must be between 8 and 26 characters long, and include a number, a symbol, and a capital and lowercase letter\".\n",
    "\n",
    "Combining Conditions with and and or\n",
    "To check more than one thing, you can combine conditions with and or or."
   ]
  },
  {
   "cell_type": "code",
   "execution_count": null,
   "id": "d948e893",
   "metadata": {},
   "outputs": [],
   "source": [
    "if x > 10 and x < 100:\n",
    "    print(\"x is a medium sized number\")\n",
    "elif x < 10 or x > 100:\n",
    "    print(\"x is either small or large\")\n",
    "else:\n",
    "    print(\"x is exactly 10 or 100\")"
   ]
  },
  {
   "cell_type": "markdown",
   "id": "7194fc0c",
   "metadata": {},
   "source": [
    "They work basically like they do when you use them in English:\n",
    "\n",
    "- and is True if both the left and the right side are true, False if either is false\n",
    "\n",
    "- or is True if either the left or the right side are true, False if both are false\n",
    "\n",
    "<b>Note</b>: Python’s or results in True if either <b>the left, the right, or both</b> are True. This is somewhat different from how we speak. Sometimes in English, “or” means one or the other, but not both. That’s sometimes called the “exclusive or” or ‘xor’, but it doesn’t have a Python keyword.\n",
    "\n",
    "## Not\n",
    "Python can turn a boolean into its opposite with not."
   ]
  },
  {
   "cell_type": "code",
   "execution_count": null,
   "id": "4a099c19",
   "metadata": {},
   "outputs": [],
   "source": [
    "not True # False\n",
    "not False # True\n",
    "not 100 > 10 # False\n",
    "not 100 < 10 # True\n",
    "\n",
    "if not response == \"It's awkward\":\n",
    "    print(\"Stay and par-tay!\")"
   ]
  },
  {
   "cell_type": "markdown",
   "id": "ab3e6bd3",
   "metadata": {},
   "source": [
    "Sometimes it’s useful to be able to express the opposite of a condition."
   ]
  },
  {
   "cell_type": "code",
   "execution_count": null,
   "id": "5a87900e",
   "metadata": {},
   "outputs": [],
   "source": [
    "response = int(input(\"Enter a big number: \"))\n",
    "if not response > 100:\n",
    "    print(\"That's not a big enough number!\")"
   ]
  },
  {
   "cell_type": "markdown",
   "id": "7605058a",
   "metadata": {},
   "source": [
    "If the input is not greater than 100, it will print output to tell the user that their number isn’t big enough.\n",
    "\n",
    "🤔 How else could you write this snippet?\n",
    "\n",
    "not can be combined with other conditions, like and and or. It’s often useful to group expressions with parentheses when making combinations."
   ]
  },
  {
   "cell_type": "code",
   "execution_count": null,
   "id": "863a01b5",
   "metadata": {},
   "outputs": [],
   "source": [
    "if not (x < 10 or x > 100):\n",
    "    print(\"x is a medium sized number\")"
   ]
  },
  {
   "cell_type": "markdown",
   "id": "58908ab9",
   "metadata": {},
   "source": [
    "## Practice: Print multiples\n",
    "\n",
    "In this practice, you will write a program that asks the user for a number then prints a statement based on the number the user enters."
   ]
  },
  {
   "cell_type": "code",
   "execution_count": null,
   "id": "c94bbc54",
   "metadata": {},
   "outputs": [],
   "source": [
    "# Type your code here"
   ]
  },
  {
   "cell_type": "markdown",
   "id": "e67e61c5",
   "metadata": {},
   "source": [
    "# Nested Conditionals\n",
    "\n",
    "<i>Estimated Time: 15 minutes</i>\n",
    "\n",
    "One of the coolest things about Python is that you can use pieces of syntax in lots of situations.\n",
    "\n",
    "The code in an if statement's body can have any valid Python."
   ]
  },
  {
   "cell_type": "code",
   "execution_count": null,
   "id": "87d6f4a8",
   "metadata": {},
   "outputs": [],
   "source": [
    "if 5 < 15:\n",
    "  print(\"We can do anything in here\")\n",
    "\n",
    "  possible = 10\n",
    "  print(\"possibilities:\", possible)\n",
    "  possible = possible * 100\n",
    "  print(\"possibilities:\", possible)\n",
    "  possible = possible * 100\n",
    "  print(\"possibilities:\", possible)\n",
    "  possible = possible * 100\n",
    "  print(\"possibilities:\", possible)\n",
    "  possible = possible * 100\n",
    "  print(\"possibilities:\", possible)\n",
    "  print(\"TOO MANY POSSIBILITIES\")"
   ]
  },
  {
   "cell_type": "markdown",
   "id": "5146470e",
   "metadata": {},
   "source": [
    "We can even put another if statement in the body of an if statement."
   ]
  },
  {
   "cell_type": "code",
   "execution_count": null,
   "id": "17911d66",
   "metadata": {},
   "outputs": [],
   "source": [
    "if x > 10:\n",
    "  print(\"x is greater than 10\")\n",
    "  if y > 10:\n",
    "    print(\"and, y is greater than 10\")"
   ]
  },
  {
   "cell_type": "markdown",
   "id": "6f810abe",
   "metadata": {},
   "source": [
    "What will be printed if x = 5 and y = 15?"
   ]
  },
  {
   "cell_type": "markdown",
   "id": "8db19330",
   "metadata": {},
   "source": [
    "When there's one conditional statement inside another, it's called a <b>nested conditional</b>. The inner conditional is nested in the outer one.\n",
    "\n",
    "The trick to reading nested conditionals in Python is to keep careful track of the indentation. Each block keeps going until the code is no longer indented. You sometimes have to look very carefully to match up each else with the corresponding if, especially when there's lots of nesting and conditions.\n",
    "\n",
    "Here's an example with lots of nesting:"
   ]
  },
  {
   "cell_type": "code",
   "execution_count": null,
   "id": "c618f867",
   "metadata": {},
   "outputs": [],
   "source": [
    "password = input(\"password: \")\n",
    "\n",
    "if len(password) > 8:\n",
    "  if any(number in password for number in \"0123456789\"):\n",
    "    if password != password.lower():\n",
    "      if password != password.upper():\n",
    "        print(\"Password valid. Account created.\") \n",
    "      else:\n",
    "        print(\"password must contain a lowercase letter\")\n",
    "    else:\n",
    "      print(\"password must contain an uppercase letter\")\n",
    "  else:\n",
    "    print(\"password must contain a number\")\n",
    "else:\n",
    "  print(\"password too short, must be more than 8 characters.\")"
   ]
  },
  {
   "cell_type": "markdown",
   "id": "dd0949c1",
   "metadata": {},
   "source": [
    "With this many levels of nesting, it's a little hard to tell which statement goes with which, but you can still match them up.\n",
    "\n",
    "Copy this code to a new replit and try it out! You may have to practice using the tab key on your keyboard 😉."
   ]
  },
  {
   "cell_type": "markdown",
   "id": "b618db70",
   "metadata": {},
   "source": [
    "# Practice conditionals\n",
    "\n",
    "Estimated Time: 1 hour\n",
    "\n",
    "💡 This is your chance to put what you’ve learned into action. Try solving these practice challenges to check that you understand the concepts.\n",
    "\n",
    "The solutions to the challenges are available in Replit. You can view a video of the solution below most challenges. Try to go through the challenges without using the solution.\n",
    "\n",
    "If you can’t do the challenge without looking the solution, it means you don’t understand the material well enough yet. Try the next practice challenge without looking at the solution. If you need more practice challenges, reach out on Discord.\n",
    "\n",
    "<b>If you get stuck</b>\n",
    "\n",
    "1. Read the instructions again.\n",
    "2. Remember Go Climb Kibo - first Google, then ask the Community on Discord, then reach out to Kibo instructional team.\n",
    "3. You can click Submit in Replit to view a solution. Don’t forget to try the solution out in your own code, and submit the project again."
   ]
  },
  {
   "cell_type": "markdown",
   "id": "2ca0f906",
   "metadata": {},
   "source": [
    "## Exam results\n",
    "\n",
    "📝 Write a program that lets a user enter their exam score, then tells the user if they have passed the exam. The user must score more than 70 to pass the exam."
   ]
  },
  {
   "cell_type": "code",
   "execution_count": 3,
   "id": "a0a3ace9",
   "metadata": {},
   "outputs": [],
   "source": [
    "# Type your code here"
   ]
  },
  {
   "cell_type": "markdown",
   "id": "4456c77d",
   "metadata": {},
   "source": [
    "## Money for Books\n",
    "\n",
    "📚 In this assignment, you'll write a program to help someone figure out if they have enough money for all the books they want to buy, using if/else statements."
   ]
  },
  {
   "cell_type": "markdown",
   "id": "be46aedf",
   "metadata": {},
   "source": [
    "# Project\n",
    "\n",
    "Estimated time: 2 hours\n",
    "\n",
    "Individual Project: Rock Paper Scissors\n",
    "Due date: Sunday May 8th\n",
    "\n",
    "📌 This is an individual project. You are expected to work independently.\n",
    "\n",
    "If you get stuck, confused, or have trouble with the project, you should use the <b>#help-python</b> channel in Discord or message an instructor. Try not to spoil the project for others - use Discord spoiler tags if you are going to include a screenshot or code sample.\n",
    "\n",
    "## Rock, Paper, Scissors\n",
    "\n",
    "In this assignment, you'll recreate the classic game of rock, paper, scissors. If you’ve never played before, or need a refresher: two players each choose Rock, Paper, or Scissors. They show their choice at the same time. Depending on their choice, there’s a win, lose, or draw.\n",
    "\n",
    "- Rock smashes Scissors\n",
    "- Scissors cut Paper\n",
    "- Paper covers Rock\n",
    "- If the two choices are the same, it’s a draw\n",
    "- Rock, Paper, and Scissors are the only choices allowed."
   ]
  },
  {
   "cell_type": "code",
   "execution_count": null,
   "id": "8e259699",
   "metadata": {},
   "outputs": [],
   "source": [
    "# Type your code here"
   ]
  },
  {
   "cell_type": "markdown",
   "id": "66e6d546",
   "metadata": {},
   "source": [
    "# Wrap up\n",
    "\n",
    "<i>Estimated time: 5 minutes</i>\n",
    "\n",
    "A group of snakes at the peak of Kibo\n",
    "\n",
    "## Summary\n",
    "\n",
    "- if statements let us write code that makes decisions\n",
    "- We can use comparison operators like `==`, `<, > to compare values and get `True` or `False`\n",
    "- elif and else blocks let us handle more complicated branching situations\n",
    "- We can combine booleans expressions with and, or, and not"
   ]
  }
 ],
 "metadata": {
  "kernelspec": {
   "display_name": "Python 3 (ipykernel)",
   "language": "python",
   "name": "python3"
  },
  "language_info": {
   "codemirror_mode": {
    "name": "ipython",
    "version": 3
   },
   "file_extension": ".py",
   "mimetype": "text/x-python",
   "name": "python",
   "nbconvert_exporter": "python",
   "pygments_lexer": "ipython3",
   "version": "3.11.5"
  }
 },
 "nbformat": 4,
 "nbformat_minor": 5
}
